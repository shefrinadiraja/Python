{
  "nbformat": 4,
  "nbformat_minor": 0,
  "metadata": {
    "colab": {
      "provenance": []
    },
    "kernelspec": {
      "name": "python3",
      "display_name": "Python 3"
    },
    "language_info": {
      "name": "python"
    }
  },
  "cells": [
    {
      "cell_type": "markdown",
      "source": [
        "# <h1 style=\"color:red\">may 1 thursday basics, variables, comments, data types, built-in functions like print, operations <h1>"
      ],
      "metadata": {
        "id": "KmACCyGtapoq"
      }
    },
    {
      "cell_type": "code",
      "execution_count": null,
      "metadata": {
        "colab": {
          "base_uri": "https://localhost:8080/"
        },
        "id": "2vtYnxQIXTWP",
        "outputId": "21f93b4f-377a-4886-cc91-e57f006382d9"
      },
      "outputs": [
        {
          "output_type": "stream",
          "name": "stdout",
          "text": [
            "shefrin's class\n"
          ]
        }
      ],
      "source": [
        "name = \"shefrin's class\" #\n",
        "print(name)"
      ]
    },
    {
      "cell_type": "code",
      "source": [
        "name = \"shefrin\"\n",
        "age = 10\n",
        "height = 7.9\n",
        "human = True\n"
      ],
      "metadata": {
        "id": "HyBjmwbrXrvg"
      },
      "execution_count": null,
      "outputs": []
    },
    {
      "cell_type": "code",
      "source": [
        "print(name,age,height,human) # simple printing\n",
        "print('name is',name,'height is',height) # normal printing\n",
        "print(f'name is {name}\\nand\\t height is {height}') # format\n",
        "\n"
      ],
      "metadata": {
        "colab": {
          "base_uri": "https://localhost:8080/"
        },
        "id": "2rOfjAcTYqPK",
        "outputId": "d8ffb238-9284-429f-e6df-1031e7c2fe5b"
      },
      "execution_count": null,
      "outputs": [
        {
          "output_type": "stream",
          "name": "stdout",
          "text": [
            "shefrin 10 7.9 True\n",
            "name is shefrin height is 7.9\n",
            "name is shefrin\n",
            "and\t height is 7.9\n"
          ]
        }
      ]
    },
    {
      "cell_type": "code",
      "source": [
        "# if you dont know\n",
        "print( type(age) )"
      ],
      "metadata": {
        "colab": {
          "base_uri": "https://localhost:8080/"
        },
        "id": "hs8wviiIY2Cm",
        "outputId": "5745e62c-b34c-4230-9c60-0b60d95fbba0"
      },
      "execution_count": null,
      "outputs": [
        {
          "output_type": "stream",
          "name": "stdout",
          "text": [
            "<class 'int'>\n"
          ]
        }
      ]
    },
    {
      "cell_type": "code",
      "source": [
        "# how to get data from user\n",
        "n = input('please enter your name:')\n",
        "print(f'welcome {n}, how are you!')"
      ],
      "metadata": {
        "colab": {
          "base_uri": "https://localhost:8080/"
        },
        "id": "j5omn0FvaOvW",
        "outputId": "f95021f4-1644-4e13-c28e-0a088fbbfd80"
      },
      "execution_count": null,
      "outputs": [
        {
          "output_type": "stream",
          "name": "stdout",
          "text": [
            "please enter your name:ali\n",
            "welcome ali, how are you \n"
          ]
        }
      ]
    },
    {
      "cell_type": "code",
      "source": [
        "# mathematical operators"
      ],
      "metadata": {
        "id": "iBYMFFyDboCj"
      },
      "execution_count": null,
      "outputs": []
    },
    {
      "cell_type": "code",
      "source": [
        "# define variable x and y with some numerical values\n",
        "# write their sum using s = x+y, d = x-y and lastly print sum is s, difference is d\n",
        "\n",
        "x=0.444\n",
        "y=250000\n",
        "s= x+y\n",
        "d=x-y\n",
        "p=x*y\n",
        "Dd=x/y\n",
        "print (f'Sum is {s} \\n Difference is {d} \\n Product is {p} \\n Division is {Dd}')\n",
        "\n"
      ],
      "metadata": {
        "colab": {
          "base_uri": "https://localhost:8080/"
        },
        "id": "Qy4T8wprbxFm",
        "outputId": "66f310e0-b139-4856-8f12-f71a5da1c794"
      },
      "execution_count": null,
      "outputs": [
        {
          "output_type": "stream",
          "name": "stdout",
          "text": [
            "Sum is 250000.444 \n",
            " Difference is -249999.556 \n",
            " Product is 111000.0 \n",
            " Division is 1.776e-06\n"
          ]
        }
      ]
    },
    {
      "cell_type": "code",
      "source": [
        "10 > 20"
      ],
      "metadata": {
        "colab": {
          "base_uri": "https://localhost:8080/"
        },
        "id": "E0KsfdMSf20m",
        "outputId": "32544f71-f07a-4c4b-aca7-1eb5388c273b"
      },
      "execution_count": null,
      "outputs": [
        {
          "output_type": "execute_result",
          "data": {
            "text/plain": [
              "False"
            ]
          },
          "metadata": {},
          "execution_count": 29
        }
      ]
    },
    {
      "cell_type": "code",
      "source": [
        "temperature = 30.0005\n",
        "if temperature>30: # next there will be block and the block will have some space\n",
        "  print('turn on fan')\n",
        "  print('hello')\n",
        "else:\n",
        "  print(\"turn off fan\")"
      ],
      "metadata": {
        "colab": {
          "base_uri": "https://localhost:8080/"
        },
        "id": "eRb_IsPEfUiA",
        "outputId": "7deecb7a-8341-4d9b-f318-72dccc31c7b1"
      },
      "execution_count": null,
      "outputs": [
        {
          "output_type": "stream",
          "name": "stdout",
          "text": [
            "turn on fan\n"
          ]
        }
      ]
    },
    {
      "cell_type": "code",
      "source": [],
      "metadata": {
        "id": "e86fyEIqfynM"
      },
      "execution_count": null,
      "outputs": []
    }
  ]
}