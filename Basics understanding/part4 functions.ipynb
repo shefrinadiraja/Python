{
 "cells": [
  {
   "cell_type": "code",
   "execution_count": 1,
   "id": "ca3d8cb9",
   "metadata": {},
   "outputs": [],
   "source": [
    "def calculator(x,y):\n",
    "    s= x+y\n",
    "    d=x-y\n",
    "    p=x*y\n",
    "    Dd=x/y\n",
    "    print (f'Sum is {s} \\nDifference is {d} \\nProduct is {p} \\nDivision is {Dd}')#\n"
   ]
  },
  {
   "cell_type": "code",
   "execution_count": 2,
   "id": "6f097032",
   "metadata": {},
   "outputs": [
    {
     "name": "stdout",
     "output_type": "stream",
     "text": [
      "Sum is 30 \n",
      "Difference is -10 \n",
      "Product is 200 \n",
      "Division is 0.5\n"
     ]
    }
   ],
   "source": [
    "calculator(10,20)"
   ]
  },
  {
   "cell_type": "code",
   "execution_count": 4,
   "id": "0d005ccd",
   "metadata": {},
   "outputs": [
    {
     "name": "stdout",
     "output_type": "stream",
     "text": [
      "Sum is 300 \n",
      "Difference is -100 \n",
      "Product is 20000 \n",
      "Division is 0.5\n"
     ]
    }
   ],
   "source": [
    "calculator(100,200)"
   ]
  },
  {
   "cell_type": "code",
   "execution_count": 1,
   "id": "2e0019b9",
   "metadata": {},
   "outputs": [],
   "source": [
    "def Force(m,v,t):\n",
    "    a = v/t\n",
    "    f = m*a\n",
    "    return f"
   ]
  },
  {
   "cell_type": "code",
   "execution_count": 5,
   "id": "b5047297",
   "metadata": {},
   "outputs": [
    {
     "name": "stdout",
     "output_type": "stream",
     "text": [
      "10.0\n"
     ]
    }
   ],
   "source": [
    "output = Force(10,5,5)\n",
    "print(output)"
   ]
  },
  {
   "cell_type": "markdown",
   "id": "3d33c2cf",
   "metadata": {},
   "source": [
    "if # means condtion\n",
    "for # you are writing \n",
    "while # while loop\n",
    "def you are display_pretty"
   ]
  },
  {
   "cell_type": "code",
   "execution_count": 6,
   "id": "5e6d2d18",
   "metadata": {},
   "outputs": [],
   "source": [
    "# can you make a function to convert F to C "
   ]
  },
  {
   "cell_type": "code",
   "execution_count": 8,
   "id": "4f7fac35",
   "metadata": {},
   "outputs": [],
   "source": [
    "def far (f):\n",
    "    c=(f-32)/(9/5)\n",
    "    return c\n"
   ]
  },
  {
   "cell_type": "code",
   "execution_count": 11,
   "id": "d3e10eda",
   "metadata": {},
   "outputs": [
    {
     "name": "stdout",
     "output_type": "stream",
     "text": [
      "38.888888888888886\n"
     ]
    }
   ],
   "source": [
    "Celsuis= far (102)\n",
    "print (Celsuis)\n"
   ]
  },
  {
   "cell_type": "code",
   "execution_count": 17,
   "id": "c268a259",
   "metadata": {},
   "outputs": [],
   "source": [
    "# make a function to give special greeting to shefrin and for all other names it should say just Hi\n",
    "\n",
    "def Name (x):\n",
    "    if x.lower()=='shefrin':\n",
    "        print (f'Welcome {x} you are very good')\n",
    "    else:\n",
    "        print (f'Hi {x} ok fine' )"
   ]
  },
  {
   "cell_type": "code",
   "execution_count": 18,
   "id": "ea5b4698",
   "metadata": {},
   "outputs": [
    {
     "name": "stdout",
     "output_type": "stream",
     "text": [
      "Welcome Shefrin you are very good\n"
     ]
    }
   ],
   "source": [
    "Name('Shefrin')"
   ]
  },
  {
   "cell_type": "code",
   "execution_count": 19,
   "id": "30ad17d2",
   "metadata": {},
   "outputs": [
    {
     "data": {
      "text/plain": [
       "'shefrin'"
      ]
     },
     "execution_count": 19,
     "metadata": {},
     "output_type": "execute_result"
    }
   ],
   "source": [
    "x = 'shefrin'\n",
    "x.lower()"
   ]
  },
  {
   "cell_type": "code",
   "execution_count": 20,
   "id": "7d82f4f2",
   "metadata": {},
   "outputs": [
    {
     "data": {
      "text/plain": [
       "'SHEFRIN'"
      ]
     },
     "execution_count": 20,
     "metadata": {},
     "output_type": "execute_result"
    }
   ],
   "source": [
    "x.upper()"
   ]
  },
  {
   "cell_type": "code",
   "execution_count": 21,
   "id": "3244c4d8",
   "metadata": {},
   "outputs": [
    {
     "data": {
      "text/plain": [
       "'Shefrin'"
      ]
     },
     "execution_count": 21,
     "metadata": {},
     "output_type": "execute_result"
    }
   ],
   "source": [
    "x.title()"
   ]
  },
  {
   "cell_type": "code",
   "execution_count": null,
   "id": "5a070540",
   "metadata": {},
   "outputs": [],
   "source": []
  }
 ],
 "metadata": {
  "kernelspec": {
   "display_name": "Python 3",
   "language": "python",
   "name": "python3"
  },
  "language_info": {
   "codemirror_mode": {
    "name": "ipython",
    "version": 3
   },
   "file_extension": ".py",
   "mimetype": "text/x-python",
   "name": "python",
   "nbconvert_exporter": "python",
   "pygments_lexer": "ipython3",
   "version": "3.13.3"
  }
 },
 "nbformat": 4,
 "nbformat_minor": 5
}
