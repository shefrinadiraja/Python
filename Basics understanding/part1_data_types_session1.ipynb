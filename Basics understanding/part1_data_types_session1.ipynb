{
  "cells": [
    {
      "cell_type": "markdown",
      "metadata": {
        "id": "KmACCyGtapoq"
      },
      "source": [
        "# <h1 style=\"color:red;text-aligh:center\">may 1 thursday basics, variables, comments, data types, built-in functions like print, operations <h1>"
      ]
    },
    {
      "cell_type": "code",
      "execution_count": null,
      "metadata": {
        "colab": {
          "base_uri": "https://localhost:8080/"
        },
        "id": "2vtYnxQIXTWP",
        "outputId": "21f93b4f-377a-4886-cc91-e57f006382d9"
      },
      "outputs": [
        {
          "name": "stdout",
          "output_type": "stream",
          "text": [
            "shefrin's class\n"
          ]
        }
      ],
      "source": [
        "name = \"shefrin's class\" #\n",
        "print(name)"
      ]
    },
    {
      "cell_type": "code",
      "execution_count": null,
      "metadata": {
        "id": "HyBjmwbrXrvg"
      },
      "outputs": [],
      "source": [
        "name = \"shefrin\" # string\n",
        "age = 10 # int\n",
        "height = 7.9 # float\n",
        "human = True # boolean\n"
      ]
    },
    {
      "cell_type": "code",
      "execution_count": null,
      "metadata": {
        "colab": {
          "base_uri": "https://localhost:8080/"
        },
        "id": "2rOfjAcTYqPK",
        "outputId": "d8ffb238-9284-429f-e6df-1031e7c2fe5b"
      },
      "outputs": [
        {
          "name": "stdout",
          "output_type": "stream",
          "text": [
            "shefrin 10 7.9 True\n",
            "name is shefrin height is 7.9\n",
            "name is shefrin\n",
            "and\t height is 7.9\n"
          ]
        }
      ],
      "source": [
        "print(name,age,height,human) # simple printing\n",
        "print('name is',name,'height is',height) # normal printing\n",
        "print(f'name is {name}\\nand\\t height is {height}') # format\n",
        "\n"
      ]
    },
    {
      "cell_type": "code",
      "execution_count": null,
      "metadata": {
        "colab": {
          "base_uri": "https://localhost:8080/"
        },
        "id": "hs8wviiIY2Cm",
        "outputId": "5745e62c-b34c-4230-9c60-0b60d95fbba0"
      },
      "outputs": [
        {
          "name": "stdout",
          "output_type": "stream",
          "text": [
            "<class 'int'>\n"
          ]
        }
      ],
      "source": [
        "# if you dont know\n",
        "print( type(age) )"
      ]
    },
    {
      "cell_type": "code",
      "execution_count": null,
      "metadata": {
        "colab": {
          "base_uri": "https://localhost:8080/"
        },
        "id": "j5omn0FvaOvW",
        "outputId": "f95021f4-1644-4e13-c28e-0a088fbbfd80"
      },
      "outputs": [
        {
          "name": "stdout",
          "output_type": "stream",
          "text": [
            "please enter your name:ali\n",
            "welcome ali, how are you \n"
          ]
        }
      ],
      "source": [
        "# how to get data from user\n",
        "n = input('please enter your name:')\n",
        "print(f'welcome {n}, how are you!')"
      ]
    },
    {
      "cell_type": "code",
      "execution_count": null,
      "metadata": {
        "id": "iBYMFFyDboCj"
      },
      "outputs": [],
      "source": [
        "# mathematical operators"
      ]
    },
    {
      "cell_type": "code",
      "execution_count": 5,
      "metadata": {
        "colab": {
          "base_uri": "https://localhost:8080/"
        },
        "id": "Qy4T8wprbxFm",
        "outputId": "66f310e0-b139-4856-8f12-f71a5da1c794"
      },
      "outputs": [
        {
          "name": "stdout",
          "output_type": "stream",
          "text": [
            "Sum is 16.7 \n",
            "Difference is -0.6999999999999993 \n",
            "Product is 69.6 \n",
            "Division is 0.9195402298850576\n"
          ]
        }
      ],
      "source": [
        "# define variable x and y with some numerical values\n",
        "# write their sum using s = x+y, d = x-y and lastly print sum is s, difference is d\n",
        "\n",
        "x=input('please enter x:')\n",
        "y=input('please enter y:')\n",
        "x = float(x)\n",
        "y = float(y)\n",
        "s= x+y\n",
        "d=x-y\n",
        "p=x*y\n",
        "Dd=x/y\n",
        "print (f'Sum is {s} \\nDifference is {d} \\nProduct is {p} \\nDivision is {Dd}')#\n",
        "\n",
        "\n"
      ]
    },
    {
      "cell_type": "code",
      "execution_count": null,
      "metadata": {
        "colab": {
          "base_uri": "https://localhost:8080/"
        },
        "id": "E0KsfdMSf20m",
        "outputId": "32544f71-f07a-4c4b-aca7-1eb5388c273b"
      },
      "outputs": [
        {
          "data": {
            "text/plain": [
              "False"
            ]
          },
          "execution_count": 29,
          "metadata": {},
          "output_type": "execute_result"
        }
      ],
      "source": [
        "10 > 20"
      ]
    },
    {
      "cell_type": "code",
      "execution_count": null,
      "metadata": {
        "colab": {
          "base_uri": "https://localhost:8080/"
        },
        "id": "eRb_IsPEfUiA",
        "outputId": "7deecb7a-8341-4d9b-f318-72dccc31c7b1"
      },
      "outputs": [
        {
          "name": "stdout",
          "output_type": "stream",
          "text": [
            "turn on fan\n"
          ]
        }
      ],
      "source": [
        "temperature = 30.0005\n",
        "if temperature>30: # next there will be block and the block will have some space\n",
        "  print('turn on fan')\n",
        "  print('hello')\n",
        "else:\n",
        "  print(\"turn off fan\")"
      ]
    },
    {
      "cell_type": "code",
      "execution_count": null,
      "metadata": {
        "id": "e86fyEIqfynM"
      },
      "outputs": [],
      "source": [
        "big_data = \"\"\"helaf asd asd asf gsed ds gds gs gsg sd gs dgsd f sdf sdf sdf sd fsd fds fds fsdf fds sfd fsd \" \\\n",
        "\n",
        "\"\"\""
      ]
    }
  ],
  "metadata": {
    "colab": {
      "provenance": []
    },
    "kernelspec": {
      "display_name": "Python 3",
      "name": "python3"
    },
    "language_info": {
      "codemirror_mode": {
        "name": "ipython",
        "version": 3
      },
      "file_extension": ".py",
      "mimetype": "text/x-python",
      "name": "python",
      "nbconvert_exporter": "python",
      "pygments_lexer": "ipython3",
      "version": "3.13.3"
    }
  },
  "nbformat": 4,
  "nbformat_minor": 0
}
