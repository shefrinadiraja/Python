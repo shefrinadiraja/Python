{
 "cells": [
  {
   "cell_type": "code",
   "execution_count": 1,
   "id": "dda87f83",
   "metadata": {},
   "outputs": [
    {
     "name": "stdout",
     "output_type": "stream",
     "text": [
      "{0: 'apple', 1: 'orange', 100: 'strawberry'}\n"
     ]
    }
   ],
   "source": [
    "fruits = {0:'apple',1:'orange',100:'strawberry'}\n",
    "print(fruits)"
   ]
  },
  {
   "cell_type": "code",
   "execution_count": 2,
   "id": "51869de3",
   "metadata": {},
   "outputs": [
    {
     "data": {
      "text/plain": [
       "'apple'"
      ]
     },
     "execution_count": 2,
     "metadata": {},
     "output_type": "execute_result"
    }
   ],
   "source": [
    "fruits[0]"
   ]
  },
  {
   "cell_type": "code",
   "execution_count": 3,
   "id": "c7ac9406",
   "metadata": {},
   "outputs": [
    {
     "ename": "KeyError",
     "evalue": "2",
     "output_type": "error",
     "traceback": [
      "\u001b[31m---------------------------------------------------------------------------\u001b[39m",
      "\u001b[31mKeyError\u001b[39m                                  Traceback (most recent call last)",
      "\u001b[36mCell\u001b[39m\u001b[36m \u001b[39m\u001b[32mIn[3]\u001b[39m\u001b[32m, line 1\u001b[39m\n\u001b[32m----> \u001b[39m\u001b[32m1\u001b[39m \u001b[43mfruits\u001b[49m\u001b[43m[\u001b[49m\u001b[32;43m2\u001b[39;49m\u001b[43m]\u001b[49m\n",
      "\u001b[31mKeyError\u001b[39m: 2"
     ]
    }
   ],
   "source": [
    "fruits[2]"
   ]
  },
  {
   "cell_type": "code",
   "execution_count": 4,
   "id": "4be7737c",
   "metadata": {},
   "outputs": [
    {
     "data": {
      "text/plain": [
       "dict_keys([0, 1, 100])"
      ]
     },
     "execution_count": 4,
     "metadata": {},
     "output_type": "execute_result"
    }
   ],
   "source": [
    "fruits.keys()"
   ]
  },
  {
   "cell_type": "code",
   "execution_count": 5,
   "id": "dc23985e",
   "metadata": {},
   "outputs": [
    {
     "data": {
      "text/plain": [
       "dict_values(['apple', 'orange', 'strawberry'])"
      ]
     },
     "execution_count": 5,
     "metadata": {},
     "output_type": "execute_result"
    }
   ],
   "source": [
    "fruits.values()"
   ]
  },
  {
   "cell_type": "code",
   "execution_count": 6,
   "id": "5fbb1f1f",
   "metadata": {},
   "outputs": [
    {
     "data": {
      "text/plain": [
       "dict_items([(0, 'apple'), (1, 'orange'), (100, 'strawberry')])"
      ]
     },
     "execution_count": 6,
     "metadata": {},
     "output_type": "execute_result"
    }
   ],
   "source": [
    "fruits.items()"
   ]
  },
  {
   "cell_type": "code",
   "execution_count": 7,
   "id": "35bcaee2",
   "metadata": {},
   "outputs": [
    {
     "data": {
      "text/plain": [
       "{'apple': ['red', 'yellow', 'green'], 'orange': ['orange', 'pink']}"
      ]
     },
     "execution_count": 7,
     "metadata": {},
     "output_type": "execute_result"
    }
   ],
   "source": [
    "d = {'apple':['red','yellow','green'],'orange':['orange','pink']}\n",
    "d"
   ]
  },
  {
   "cell_type": "code",
   "execution_count": 8,
   "id": "7c1b8561",
   "metadata": {},
   "outputs": [],
   "source": [
    "a = [{'apple':'red',\"orange\":'orange'},[[2,3,4,],[5,4,6]]    , (5,3,5,6,7,)   ]"
   ]
  },
  {
   "cell_type": "code",
   "execution_count": 9,
   "id": "72d4dec0",
   "metadata": {},
   "outputs": [],
   "source": [
    "# please make a dictionary of 5 fruits as keys and 5 colors as value "
   ]
  },
  {
   "cell_type": "code",
   "execution_count": 11,
   "id": "3c3dcbdd",
   "metadata": {},
   "outputs": [],
   "source": [
    "fruits ={'apple':'red','orange':'orange',}"
   ]
  },
  {
   "cell_type": "code",
   "execution_count": 12,
   "id": "a34c8a53",
   "metadata": {},
   "outputs": [
    {
     "data": {
      "text/plain": [
       "{'apple': 'red', 'orange': 'orange'}"
      ]
     },
     "execution_count": 12,
     "metadata": {},
     "output_type": "execute_result"
    }
   ],
   "source": [
    "fruits"
   ]
  },
  {
   "cell_type": "code",
   "execution_count": 13,
   "id": "3d284449",
   "metadata": {},
   "outputs": [
    {
     "data": {
      "text/plain": [
       "{'a': 'b', 'c': 'd'}"
      ]
     },
     "execution_count": 13,
     "metadata": {},
     "output_type": "execute_result"
    }
   ],
   "source": [
    "dict(a='b',c='d')"
   ]
  },
  {
   "cell_type": "code",
   "execution_count": null,
   "id": "9fb85db8",
   "metadata": {},
   "outputs": [
    {
     "ename": "KeyError",
     "evalue": "'mango'",
     "output_type": "error",
     "traceback": [
      "\u001b[31m---------------------------------------------------------------------------\u001b[39m",
      "\u001b[31mKeyError\u001b[39m                                  Traceback (most recent call last)",
      "\u001b[36mCell\u001b[39m\u001b[36m \u001b[39m\u001b[32mIn[14]\u001b[39m\u001b[32m, line 1\u001b[39m\n\u001b[32m----> \u001b[39m\u001b[32m1\u001b[39m \u001b[43mfruits\u001b[49m\u001b[43m[\u001b[49m\u001b[33;43m'\u001b[39;49m\u001b[33;43mmango\u001b[39;49m\u001b[33;43m'\u001b[39;49m\u001b[43m]\u001b[49m\n",
      "\u001b[31mKeyError\u001b[39m: 'mango'"
     ]
    }
   ],
   "source": [
    "fruits['mango'] # gives error because mango is not present"
   ]
  },
  {
   "cell_type": "code",
   "execution_count": 18,
   "id": "37f66230",
   "metadata": {},
   "outputs": [],
   "source": [
    "a = fruits.get('mango') # get is giving you value when you write key if not present no error\n",
    "a"
   ]
  },
  {
   "cell_type": "code",
   "execution_count": 19,
   "id": "403d4c32",
   "metadata": {},
   "outputs": [
    {
     "data": {
      "text/plain": [
       "'red'"
      ]
     },
     "execution_count": 19,
     "metadata": {},
     "output_type": "execute_result"
    }
   ],
   "source": [
    "fruits.get('apple')"
   ]
  },
  {
   "cell_type": "code",
   "execution_count": 1,
   "id": "454f8d9e",
   "metadata": {},
   "outputs": [],
   "source": [
    "# databse usernames as key and values passworod\n",
    "username_password = {\n",
    "    'shefrin':'star',\n",
    "    'ali':'earth',\n",
    "    'eisa':'cloud',\n",
    "    'eid':'moon'\n",
    "}"
   ]
  },
  {
   "cell_type": "code",
   "execution_count": 23,
   "id": "445b31ff",
   "metadata": {},
   "outputs": [
    {
     "name": "stdout",
     "output_type": "stream",
     "text": [
      "shefrin star\n",
      "ali earth\n",
      "eisa cloud\n",
      "eid moon\n"
     ]
    }
   ],
   "source": [
    "for user in username_password:\n",
    "    print(user , username_password[user])"
   ]
  },
  {
   "cell_type": "code",
   "execution_count": 7,
   "id": "02aa5ad5",
   "metadata": {},
   "outputs": [
    {
     "name": "stdout",
     "output_type": "stream",
     "text": [
      "usernames is there write password\n",
      "wrong password\n",
      "sorry no username is present: \n",
      "sorry no username is present: \n",
      "sorry no username is present: \n",
      "sorry no username is present: \n",
      "sorry no username is present: \n",
      "sorry no username is present: \n",
      "sorry no username is present: \n",
      "sorry no username is present: \n",
      "sorry no username is present: \n",
      "sorry no username is present: \n",
      "sorry no username is present: \n",
      "sorry no username is present: \n",
      "sorry no username is present: \n",
      "sorry no username is present: \n",
      "sorry no username is present: \n",
      "sorry no username is present: \n",
      "sorry no username is present: \n",
      "usernames is there write password\n",
      "logged in\n"
     ]
    }
   ],
   "source": [
    "# write code for loggin\n",
    "u = 'keep running'\n",
    "while u!='stop':\n",
    "    u = input('enter username:')\n",
    "    if u in username_password.keys():\n",
    "        print('usernames is there write password')\n",
    "        p = input('enter passwrod')\n",
    "        if p==username_password[u]:\n",
    "            print('logged in')\n",
    "            u = 'stop'\n",
    "        else:\n",
    "            print('wrong password')\n",
    "    else:\n",
    "        print('sorry no username is present: ')\n",
    "    \n",
    "    "
   ]
  },
  {
   "cell_type": "code",
   "execution_count": 3,
   "id": "763fb57d",
   "metadata": {},
   "outputs": [
    {
     "name": "stdout",
     "output_type": "stream",
     "text": [
      "logged in\n",
      "new user is added\n",
      "program ended\n"
     ]
    }
   ],
   "source": [
    "# when you want to add another username and password\n",
    "# write code for loggin\n",
    "loop = 'keep running'\n",
    "while loop!='stop':\n",
    "    u = input('enter username:')\n",
    "    if u in username_password.keys():\n",
    "        \n",
    "        p = input('usernames is there write password: enter passwrod')\n",
    "        if p==username_password[u]:\n",
    "            print('logged in')\n",
    "            u = 'stop'\n",
    "        else:\n",
    "            c = input ('wrong password: you can change your password, press change to change password or press any key to continue')\n",
    "            if c =='change':\n",
    "                n = input('enter the new password')\n",
    "                username_password[u] = n # i am replacing current value of key\n",
    "            \n",
    "    else:\n",
    "        sign = input('User does not existdo you want to sign up press yes to continue')\n",
    "        if sign =='yes':\n",
    "            username=input('sorry no username is present: please enter new username:')\n",
    "            password=input('please enter the password:')\n",
    "\n",
    "            username_password[username]=password # adding new items (means both key and value to dictionary)\n",
    "            print('new user is added')\n",
    "\n",
    "\n",
    "    loop = input('do you want to to stop, enter stop, or enter any key to continue')\n",
    "    \n",
    "print('program ended')\n"
   ]
  },
  {
   "cell_type": "code",
   "execution_count": 4,
   "id": "1c3b7162",
   "metadata": {},
   "outputs": [
    {
     "data": {
      "text/plain": [
       "{'shefrin': 'secure',\n",
       " 'ali': 'earth',\n",
       " 'eisa': 'cloud',\n",
       " 'eid': 'moon',\n",
       " 'secure': 'secure',\n",
       " 'umair': 'umair',\n",
       " 'zia': 'secure'}"
      ]
     },
     "execution_count": 4,
     "metadata": {},
     "output_type": "execute_result"
    }
   ],
   "source": [
    "username_password"
   ]
  },
  {
   "cell_type": "code",
   "execution_count": 3,
   "id": "aa565bb3",
   "metadata": {},
   "outputs": [],
   "source": [
    "empty = {}\n",
    "# fill this dictionary with 3 values"
   ]
  },
  {
   "cell_type": "code",
   "execution_count": 5,
   "id": "90121eda",
   "metadata": {},
   "outputs": [
    {
     "name": "stdout",
     "output_type": "stream",
     "text": [
      "{'moon': '59'}\n",
      "{'moon': '59', 'star': '64'}\n",
      "{'moon': '59', 'star': '64', 'earth': '73'}\n",
      "{'moon': '59', 'star': '64', 'earth': '73', '': ''}\n",
      "{'moon': '59', 'star': '64', 'earth': '73', '': ''}\n"
     ]
    }
   ],
   "source": [
    "for i in range(5):\n",
    "    k = input('enter the key: ')\n",
    "    v = input('enter the value')\n",
    "    empty[k] = v\n",
    "    print(empty)"
   ]
  },
  {
   "cell_type": "code",
   "execution_count": 19,
   "id": "3f3fab5f",
   "metadata": {},
   "outputs": [],
   "source": [
    "def change_value_in_dictionary(d, u):\n",
    "    '''this function if you give it dictionary and key and inside function ask for value it will update dictionary adn return'''\n",
    "    p = input('enter new password')\n",
    "    d[u] = p\n",
    "    return d\n",
    "\n",
    "\n",
    "\n",
    "def add_new_value_if_not_exist_in_dictionary(d):\n",
    "    '''if you give a dictionary to this function it will add new key and new value unless not press'''\n",
    "    u = input('enter new username')\n",
    "    if not u in d:\n",
    "        p = input('enter new password')\n",
    "        d[u] = p\n",
    "    else:\n",
    "        print('you have tried a key which is already there try new later: ')\n",
    "    return d\n",
    "\n",
    "def confirm_details_if_they_are_present_in_dictionary(d,u,p):\n",
    "    if p==d[u]:\n",
    "        print('correcct details')\n",
    "        return d\n",
    "    else:\n",
    "        c = input ('wrong value: you can change your value, press change to change value or press any key to continue')\n",
    "        if c =='change':\n",
    "            d = change_value_in_dictionary(d,u) # i am calling function change_password\n",
    "        return d\n",
    "\n",
    "\n"
   ]
  },
  {
   "cell_type": "code",
   "execution_count": null,
   "id": "12973de7",
   "metadata": {},
   "outputs": [
    {
     "data": {
      "text/plain": [
       "{'apple': 'yellow', 'mango': 'green'}"
      ]
     },
     "execution_count": 9,
     "metadata": {},
     "output_type": "execute_result"
    }
   ],
   "source": [
    "database = {'apple':'red',\"mango\":'green'}\n",
    "add_new_value_if_not_exist_in_dictionary(database,'apple')"
   ]
  },
  {
   "cell_type": "code",
   "execution_count": null,
   "id": "dec91529",
   "metadata": {},
   "outputs": [
    {
     "name": "stdout",
     "output_type": "stream",
     "text": [
      "you have tried a key which is already there try new later: \n"
     ]
    },
    {
     "data": {
      "text/plain": [
       "{'apple': 'red', 'mango': 'green'}"
      ]
     },
     "execution_count": 11,
     "metadata": {},
     "output_type": "execute_result"
    }
   ],
   "source": [
    "database = {'apple':'red',\"mango\":'green'}\n",
    "change_value_in_dictionary(database)"
   ]
  },
  {
   "cell_type": "code",
   "execution_count": null,
   "id": "b05784ca",
   "metadata": {},
   "outputs": [],
   "source": []
  },
  {
   "cell_type": "code",
   "execution_count": null,
   "id": "3a791471",
   "metadata": {},
   "outputs": [
    {
     "name": "stdout",
     "output_type": "stream",
     "text": [
      "correcct details\n",
      "program ended\n",
      "new database {'shefrin': 'secure', 'ali': 'earth', 'eisa': 'cloud', 'eid': 'moon', 'secure': 'secure', 'umair': 'umair', 'zia': 'secure', 'sherin': 'secure', 'usman': 'usman'}\n"
     ]
    }
   ],
   "source": [
    "# when you want to add another username and password\n",
    "# write code for loggin\n",
    "loop = 'keep running'\n",
    "while loop!='stop':\n",
    "    u = input('enter username:')\n",
    "    if u in username_password.keys():\n",
    "        p = input('usernames is there write password: enter passwrod')\n",
    "        username_password =change_value_in_dictionary(username_password,u,p)\n",
    "        \n",
    "    else:\n",
    "        sign = input('User does not existdo you want to sign up press yes to continue')\n",
    "        if sign =='yes':\n",
    "            username_password=add_new_value_if_not_exist_in_dictionary(username_password)\n",
    "\n",
    "\n",
    "    loop = input('do you want to to stop, enter stop, or enter any key to continue')\n",
    "    \n",
    "print('program ended')\n",
    "print('new database',username_password)\n"
   ]
  },
  {
   "cell_type": "code",
   "execution_count": null,
   "id": "fe85ef22",
   "metadata": {},
   "outputs": [],
   "source": [
    "# make a grocessory application that will ask you to enter the product \n"
   ]
  },
  {
   "cell_type": "code",
   "execution_count": 12,
   "id": "8b7ddcca",
   "metadata": {},
   "outputs": [],
   "source": [
    "## grocessory app"
   ]
  },
  {
   "cell_type": "code",
   "execution_count": 16,
   "id": "69483945",
   "metadata": {},
   "outputs": [],
   "source": [
    "database = {\n",
    "    'apple':'100',\n",
    "    'mango':'150',\n",
    "    'orange':'250',\n",
    "    'strawberry':'300'}"
   ]
  },
  {
   "cell_type": "code",
   "execution_count": 20,
   "id": "83f61695",
   "metadata": {},
   "outputs": [
    {
     "name": "stdout",
     "output_type": "stream",
     "text": [
      "updated data {'apple': '100', 'mango': '150', 'orange': '250', 'strawberry': '300', 'kiwi': '500'}\n",
      "updated: {'apple': '100', 'mango': '150', 'orange': '250', 'strawberry': '250', 'kiwi': '500'}\n",
      "program closed new database is  {'apple': '100', 'mango': '150', 'orange': '250', 'strawberry': '250', 'kiwi': '500'}\n"
     ]
    }
   ],
   "source": [
    "while True:\n",
    "    x = input(f'enter a to add, c to change price in {database}')\n",
    "    if x =='a':\n",
    "        database = add_new_value_if_not_exist_in_dictionary(database)\n",
    "        print('updated data',database)\n",
    "    elif x == 'c':\n",
    "        product_name = input(f'write product which you want to change {database.keys()}')\n",
    "        database = change_value_in_dictionary(database,product_name)\n",
    "        print('updated:',database)\n",
    "    else:\n",
    "        break\n",
    "print('program closed new database is ',database)\n",
    "    \n",
    "        "
   ]
  },
  {
   "cell_type": "code",
   "execution_count": null,
   "id": "493319f2",
   "metadata": {},
   "outputs": [],
   "source": []
  }
 ],
 "metadata": {
  "kernelspec": {
   "display_name": "Python 3",
   "language": "python",
   "name": "python3"
  },
  "language_info": {
   "codemirror_mode": {
    "name": "ipython",
    "version": 3
   },
   "file_extension": ".py",
   "mimetype": "text/x-python",
   "name": "python",
   "nbconvert_exporter": "python",
   "pygments_lexer": "ipython3",
   "version": "3.13.3"
  }
 },
 "nbformat": 4,
 "nbformat_minor": 5
}
