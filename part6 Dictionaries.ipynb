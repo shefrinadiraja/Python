{
 "cells": [
  {
   "cell_type": "code",
   "execution_count": 1,
   "id": "dda87f83",
   "metadata": {},
   "outputs": [
    {
     "name": "stdout",
     "output_type": "stream",
     "text": [
      "{0: 'apple', 1: 'orange', 100: 'strawberry'}\n"
     ]
    }
   ],
   "source": [
    "fruits = {0:'apple',1:'orange',100:'strawberry'}\n",
    "print(fruits)"
   ]
  },
  {
   "cell_type": "code",
   "execution_count": 2,
   "id": "51869de3",
   "metadata": {},
   "outputs": [
    {
     "data": {
      "text/plain": [
       "'apple'"
      ]
     },
     "execution_count": 2,
     "metadata": {},
     "output_type": "execute_result"
    }
   ],
   "source": [
    "fruits[0]"
   ]
  },
  {
   "cell_type": "code",
   "execution_count": 3,
   "id": "c7ac9406",
   "metadata": {},
   "outputs": [
    {
     "ename": "KeyError",
     "evalue": "2",
     "output_type": "error",
     "traceback": [
      "\u001b[31m---------------------------------------------------------------------------\u001b[39m",
      "\u001b[31mKeyError\u001b[39m                                  Traceback (most recent call last)",
      "\u001b[36mCell\u001b[39m\u001b[36m \u001b[39m\u001b[32mIn[3]\u001b[39m\u001b[32m, line 1\u001b[39m\n\u001b[32m----> \u001b[39m\u001b[32m1\u001b[39m \u001b[43mfruits\u001b[49m\u001b[43m[\u001b[49m\u001b[32;43m2\u001b[39;49m\u001b[43m]\u001b[49m\n",
      "\u001b[31mKeyError\u001b[39m: 2"
     ]
    }
   ],
   "source": [
    "fruits[2]"
   ]
  },
  {
   "cell_type": "code",
   "execution_count": 4,
   "id": "4be7737c",
   "metadata": {},
   "outputs": [
    {
     "data": {
      "text/plain": [
       "dict_keys([0, 1, 100])"
      ]
     },
     "execution_count": 4,
     "metadata": {},
     "output_type": "execute_result"
    }
   ],
   "source": [
    "fruits.keys()"
   ]
  },
  {
   "cell_type": "code",
   "execution_count": 5,
   "id": "dc23985e",
   "metadata": {},
   "outputs": [
    {
     "data": {
      "text/plain": [
       "dict_values(['apple', 'orange', 'strawberry'])"
      ]
     },
     "execution_count": 5,
     "metadata": {},
     "output_type": "execute_result"
    }
   ],
   "source": [
    "fruits.values()"
   ]
  },
  {
   "cell_type": "code",
   "execution_count": 6,
   "id": "5fbb1f1f",
   "metadata": {},
   "outputs": [
    {
     "data": {
      "text/plain": [
       "dict_items([(0, 'apple'), (1, 'orange'), (100, 'strawberry')])"
      ]
     },
     "execution_count": 6,
     "metadata": {},
     "output_type": "execute_result"
    }
   ],
   "source": [
    "fruits.items()"
   ]
  },
  {
   "cell_type": "code",
   "execution_count": 7,
   "id": "35bcaee2",
   "metadata": {},
   "outputs": [
    {
     "data": {
      "text/plain": [
       "{'apple': ['red', 'yellow', 'green'], 'orange': ['orange', 'pink']}"
      ]
     },
     "execution_count": 7,
     "metadata": {},
     "output_type": "execute_result"
    }
   ],
   "source": [
    "d = {'apple':['red','yellow','green'],'orange':['orange','pink']}\n",
    "d"
   ]
  },
  {
   "cell_type": "code",
   "execution_count": 8,
   "id": "7c1b8561",
   "metadata": {},
   "outputs": [],
   "source": [
    "a = [{'apple':'red',\"orange\":'orange'},[[2,3,4,],[5,4,6]]    , (5,3,5,6,7,)   ]"
   ]
  },
  {
   "cell_type": "code",
   "execution_count": 9,
   "id": "72d4dec0",
   "metadata": {},
   "outputs": [],
   "source": [
    "# please make a dictionary of 5 fruits as keys and 5 colors as value "
   ]
  },
  {
   "cell_type": "code",
   "execution_count": 11,
   "id": "3c3dcbdd",
   "metadata": {},
   "outputs": [],
   "source": [
    "fruits ={'apple':'red','orange':'orange',}"
   ]
  },
  {
   "cell_type": "code",
   "execution_count": 12,
   "id": "a34c8a53",
   "metadata": {},
   "outputs": [
    {
     "data": {
      "text/plain": [
       "{'apple': 'red', 'orange': 'orange'}"
      ]
     },
     "execution_count": 12,
     "metadata": {},
     "output_type": "execute_result"
    }
   ],
   "source": [
    "fruits"
   ]
  },
  {
   "cell_type": "code",
   "execution_count": 13,
   "id": "3d284449",
   "metadata": {},
   "outputs": [
    {
     "data": {
      "text/plain": [
       "{'a': 'b', 'c': 'd'}"
      ]
     },
     "execution_count": 13,
     "metadata": {},
     "output_type": "execute_result"
    }
   ],
   "source": [
    "dict(a='b',c='d')"
   ]
  },
  {
   "cell_type": "code",
   "execution_count": null,
   "id": "9fb85db8",
   "metadata": {},
   "outputs": [
    {
     "ename": "KeyError",
     "evalue": "'mango'",
     "output_type": "error",
     "traceback": [
      "\u001b[31m---------------------------------------------------------------------------\u001b[39m",
      "\u001b[31mKeyError\u001b[39m                                  Traceback (most recent call last)",
      "\u001b[36mCell\u001b[39m\u001b[36m \u001b[39m\u001b[32mIn[14]\u001b[39m\u001b[32m, line 1\u001b[39m\n\u001b[32m----> \u001b[39m\u001b[32m1\u001b[39m \u001b[43mfruits\u001b[49m\u001b[43m[\u001b[49m\u001b[33;43m'\u001b[39;49m\u001b[33;43mmango\u001b[39;49m\u001b[33;43m'\u001b[39;49m\u001b[43m]\u001b[49m\n",
      "\u001b[31mKeyError\u001b[39m: 'mango'"
     ]
    }
   ],
   "source": [
    "fruits['mango'] # gives error because mango is not present"
   ]
  },
  {
   "cell_type": "code",
   "execution_count": 18,
   "id": "37f66230",
   "metadata": {},
   "outputs": [],
   "source": [
    "a = fruits.get('mango') # get is giving you value when you write key if not present no error\n",
    "a"
   ]
  },
  {
   "cell_type": "code",
   "execution_count": 19,
   "id": "403d4c32",
   "metadata": {},
   "outputs": [
    {
     "data": {
      "text/plain": [
       "'red'"
      ]
     },
     "execution_count": 19,
     "metadata": {},
     "output_type": "execute_result"
    }
   ],
   "source": [
    "fruits.get('apple')"
   ]
  },
  {
   "cell_type": "code",
   "execution_count": 2,
   "id": "454f8d9e",
   "metadata": {},
   "outputs": [],
   "source": [
    "# databse usernames as key and values passworod\n",
    "username_password = {\n",
    "    'shefrin':'star',\n",
    "    'ali':'earth',\n",
    "    'eisa':'cloud',\n",
    "    'eid':'moon'\n",
    "}"
   ]
  },
  {
   "cell_type": "code",
   "execution_count": 23,
   "id": "445b31ff",
   "metadata": {},
   "outputs": [
    {
     "name": "stdout",
     "output_type": "stream",
     "text": [
      "shefrin star\n",
      "ali earth\n",
      "eisa cloud\n",
      "eid moon\n"
     ]
    }
   ],
   "source": [
    "for user in username_password:\n",
    "    print(user , username_password[user])"
   ]
  },
  {
   "cell_type": "code",
   "execution_count": 7,
   "id": "02aa5ad5",
   "metadata": {},
   "outputs": [
    {
     "name": "stdout",
     "output_type": "stream",
     "text": [
      "usernames is there write password\n",
      "wrong password\n",
      "sorry no username is present: \n",
      "sorry no username is present: \n",
      "sorry no username is present: \n",
      "sorry no username is present: \n",
      "sorry no username is present: \n",
      "sorry no username is present: \n",
      "sorry no username is present: \n",
      "sorry no username is present: \n",
      "sorry no username is present: \n",
      "sorry no username is present: \n",
      "sorry no username is present: \n",
      "sorry no username is present: \n",
      "sorry no username is present: \n",
      "sorry no username is present: \n",
      "sorry no username is present: \n",
      "sorry no username is present: \n",
      "sorry no username is present: \n",
      "usernames is there write password\n",
      "logged in\n"
     ]
    }
   ],
   "source": [
    "# write code for loggin\n",
    "u = 'keep running'\n",
    "while u!='stop':\n",
    "    u = input('enter username:')\n",
    "    if u in username_password.keys():\n",
    "        print('usernames is there write password')\n",
    "        p = input('enter passwrod')\n",
    "        if p==username_password[u]:\n",
    "            print('logged in')\n",
    "            u = 'stop'\n",
    "        else:\n",
    "            print('wrong password')\n",
    "    else:\n",
    "        print('sorry no username is present: ')\n",
    "    \n",
    "    "
   ]
  },
  {
   "cell_type": "code",
   "execution_count": null,
   "id": "763fb57d",
   "metadata": {},
   "outputs": [],
   "source": []
  }
 ],
 "metadata": {
  "kernelspec": {
   "display_name": "Python 3",
   "language": "python",
   "name": "python3"
  },
  "language_info": {
   "codemirror_mode": {
    "name": "ipython",
    "version": 3
   },
   "file_extension": ".py",
   "mimetype": "text/x-python",
   "name": "python",
   "nbconvert_exporter": "python",
   "pygments_lexer": "ipython3",
   "version": "3.13.3"
  }
 },
 "nbformat": 4,
 "nbformat_minor": 5
}
