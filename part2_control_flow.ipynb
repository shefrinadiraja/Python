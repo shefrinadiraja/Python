{
 "cells": [
  {
   "cell_type": "markdown",
   "id": "4dd6e50d",
   "metadata": {},
   "source": [
    "# 1. Boolean\n",
    "# 2. operators (comparative and logical)"
   ]
  },
  {
   "cell_type": "code",
   "execution_count": 4,
   "id": "08992966",
   "metadata": {},
   "outputs": [],
   "source": [
    "age = 15\n"
   ]
  },
  {
   "cell_type": "code",
   "execution_count": 5,
   "id": "9e41ce96",
   "metadata": {},
   "outputs": [],
   "source": [
    "limit = 18"
   ]
  },
  {
   "cell_type": "code",
   "execution_count": 6,
   "id": "9c879f06",
   "metadata": {},
   "outputs": [
    {
     "data": {
      "text/plain": [
       "False"
      ]
     },
     "execution_count": 6,
     "metadata": {},
     "output_type": "execute_result"
    }
   ],
   "source": [
    "age > limit"
   ]
  },
  {
   "cell_type": "code",
   "execution_count": null,
   "id": "a610ceab",
   "metadata": {},
   "outputs": [
    {
     "data": {
      "text/plain": [
       "False"
      ]
     },
     "execution_count": 8,
     "metadata": {},
     "output_type": "execute_result"
    }
   ],
   "source": [
    "20 < 100"
   ]
  },
  {
   "cell_type": "code",
   "execution_count": null,
   "id": "c4c84939",
   "metadata": {},
   "outputs": [],
   "source": [
    "# > , < , >= , <= , ==, !="
   ]
  }
 ],
 "metadata": {
  "kernelspec": {
   "display_name": "Python 3",
   "language": "python",
   "name": "python3"
  },
  "language_info": {
   "codemirror_mode": {
    "name": "ipython",
    "version": 3
   },
   "file_extension": ".py",
   "mimetype": "text/x-python",
   "name": "python",
   "nbconvert_exporter": "python",
   "pygments_lexer": "ipython3",
   "version": "3.13.3"
  }
 },
 "nbformat": 4,
 "nbformat_minor": 5
}
