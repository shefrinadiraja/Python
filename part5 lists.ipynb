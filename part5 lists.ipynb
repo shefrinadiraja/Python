{
 "cells": [
  {
   "cell_type": "code",
   "execution_count": 10,
   "id": "60db39ef",
   "metadata": {},
   "outputs": [],
   "source": [
    "Fruits = ['Apple','Mango','Cherry','Grapes']"
   ]
  },
  {
   "cell_type": "code",
   "execution_count": 42,
   "id": "0d381fad",
   "metadata": {},
   "outputs": [
    {
     "data": {
      "text/plain": [
       "1"
      ]
     },
     "execution_count": 42,
     "metadata": {},
     "output_type": "execute_result"
    }
   ],
   "source": [
    "Fruits.index('Cherry')"
   ]
  },
  {
   "cell_type": "code",
   "execution_count": 11,
   "id": "072c0a79",
   "metadata": {},
   "outputs": [],
   "source": [
    "Fruits.append('orange')"
   ]
  },
  {
   "cell_type": "code",
   "execution_count": 12,
   "id": "50161c61",
   "metadata": {},
   "outputs": [
    {
     "data": {
      "text/plain": [
       "['Apple', 'Mango', 'Cherry', 'Grapes', 'orange']"
      ]
     },
     "execution_count": 12,
     "metadata": {},
     "output_type": "execute_result"
    }
   ],
   "source": [
    "Fruits"
   ]
  },
  {
   "cell_type": "code",
   "execution_count": 13,
   "id": "0197acdb",
   "metadata": {},
   "outputs": [
    {
     "data": {
      "text/plain": [
       "'orange'"
      ]
     },
     "execution_count": 13,
     "metadata": {},
     "output_type": "execute_result"
    }
   ],
   "source": [
    "Fruits.pop() # opposite of append"
   ]
  },
  {
   "cell_type": "code",
   "execution_count": 14,
   "id": "bbcf9e5e",
   "metadata": {},
   "outputs": [
    {
     "data": {
      "text/plain": [
       "['Apple', 'Mango', 'Cherry', 'Grapes']"
      ]
     },
     "execution_count": 14,
     "metadata": {},
     "output_type": "execute_result"
    }
   ],
   "source": [
    "Fruits"
   ]
  },
  {
   "cell_type": "code",
   "execution_count": 15,
   "id": "ee576704",
   "metadata": {},
   "outputs": [],
   "source": [
    "# add at perticulat index"
   ]
  },
  {
   "cell_type": "code",
   "execution_count": 16,
   "id": "ee9147e4",
   "metadata": {},
   "outputs": [],
   "source": [
    "Fruits.insert(0,'strawberry')"
   ]
  },
  {
   "cell_type": "code",
   "execution_count": 17,
   "id": "0745b20c",
   "metadata": {},
   "outputs": [
    {
     "data": {
      "text/plain": [
       "['strawberry', 'Apple', 'Mango', 'Cherry', 'Grapes']"
      ]
     },
     "execution_count": 17,
     "metadata": {},
     "output_type": "execute_result"
    }
   ],
   "source": [
    "Fruits"
   ]
  },
  {
   "cell_type": "code",
   "execution_count": 41,
   "id": "652a2857",
   "metadata": {},
   "outputs": [],
   "source": [
    "# using Fruits.remove('propername)"
   ]
  },
  {
   "cell_type": "code",
   "execution_count": null,
   "id": "c7eff441",
   "metadata": {},
   "outputs": [],
   "source": [
    "del Fruits[0] # index is require"
   ]
  },
  {
   "cell_type": "code",
   "execution_count": 20,
   "id": "72b63265",
   "metadata": {},
   "outputs": [
    {
     "data": {
      "text/plain": [
       "['Apple', 'Mango', 'Cherry', 'Grapes']"
      ]
     },
     "execution_count": 20,
     "metadata": {},
     "output_type": "execute_result"
    }
   ],
   "source": [
    "Fruits"
   ]
  },
  {
   "cell_type": "code",
   "execution_count": 21,
   "id": "ab8c0b9b",
   "metadata": {},
   "outputs": [],
   "source": [
    "Fruits.sort()"
   ]
  },
  {
   "cell_type": "code",
   "execution_count": 22,
   "id": "a41e7dd4",
   "metadata": {},
   "outputs": [
    {
     "data": {
      "text/plain": [
       "['Apple', 'Cherry', 'Grapes', 'Mango']"
      ]
     },
     "execution_count": 22,
     "metadata": {},
     "output_type": "execute_result"
    }
   ],
   "source": [
    "Fruits"
   ]
  },
  {
   "cell_type": "code",
   "execution_count": 23,
   "id": "542b3895",
   "metadata": {},
   "outputs": [],
   "source": [
    "# sort them ascending\n",
    "numbers = [4,4,6,643,7,326,23523,63,55,35,64357,436563,536]"
   ]
  },
  {
   "cell_type": "code",
   "execution_count": 24,
   "id": "72f6c685",
   "metadata": {},
   "outputs": [],
   "source": [
    "numbers.sort ()"
   ]
  },
  {
   "cell_type": "code",
   "execution_count": 25,
   "id": "8ed0a2cc",
   "metadata": {},
   "outputs": [
    {
     "data": {
      "text/plain": [
       "[4, 4, 6, 7, 35, 55, 63, 326, 536, 643, 23523, 64357, 436563]"
      ]
     },
     "execution_count": 25,
     "metadata": {},
     "output_type": "execute_result"
    }
   ],
   "source": [
    "numbers"
   ]
  },
  {
   "cell_type": "code",
   "execution_count": 26,
   "id": "51c79677",
   "metadata": {},
   "outputs": [],
   "source": [
    "numbers.reverse()"
   ]
  },
  {
   "cell_type": "code",
   "execution_count": 27,
   "id": "3bc56fe9",
   "metadata": {},
   "outputs": [
    {
     "data": {
      "text/plain": [
       "[436563, 64357, 23523, 643, 536, 326, 63, 55, 35, 7, 6, 4, 4]"
      ]
     },
     "execution_count": 27,
     "metadata": {},
     "output_type": "execute_result"
    }
   ],
   "source": [
    "numbers"
   ]
  },
  {
   "cell_type": "code",
   "execution_count": 37,
   "id": "aa6a33ff",
   "metadata": {},
   "outputs": [],
   "source": [
    "numbers2 = [5,9,1,4,8,2,4]\n",
    "numbers3 = numbers.copy()\n",
    "\n",
    "numbers3.sort(reverse=True)"
   ]
  },
  {
   "cell_type": "code",
   "execution_count": 33,
   "id": "d26c3d33",
   "metadata": {},
   "outputs": [
    {
     "data": {
      "text/plain": [
       "[5, 9, 1, 4, 8, 2, 4]"
      ]
     },
     "execution_count": 33,
     "metadata": {},
     "output_type": "execute_result"
    }
   ],
   "source": [
    "numbers2"
   ]
  },
  {
   "cell_type": "code",
   "execution_count": 38,
   "id": "6b48fc9e",
   "metadata": {},
   "outputs": [],
   "source": [
    "x = [1,2,3]\n",
    "y = x.copy()\n",
    "x[0] = 'apple'"
   ]
  },
  {
   "cell_type": "code",
   "execution_count": 39,
   "id": "0bca9781",
   "metadata": {},
   "outputs": [
    {
     "data": {
      "text/plain": [
       "['apple', 2, 3]"
      ]
     },
     "execution_count": 39,
     "metadata": {},
     "output_type": "execute_result"
    }
   ],
   "source": [
    "x"
   ]
  },
  {
   "cell_type": "code",
   "execution_count": 40,
   "id": "4cb107a4",
   "metadata": {},
   "outputs": [
    {
     "data": {
      "text/plain": [
       "[1, 2, 3]"
      ]
     },
     "execution_count": 40,
     "metadata": {},
     "output_type": "execute_result"
    }
   ],
   "source": [
    "y"
   ]
  },
  {
   "cell_type": "code",
   "execution_count": null,
   "id": "025d2390",
   "metadata": {},
   "outputs": [],
   "source": []
  },
  {
   "cell_type": "code",
   "execution_count": 43,
   "id": "b8ad306f",
   "metadata": {},
   "outputs": [],
   "source": [
    "users = ['ali','john','roin','umar']\n",
    "passwords = ['123','456','789','0123']"
   ]
  },
  {
   "cell_type": "code",
   "execution_count": 48,
   "id": "d70b2dbe",
   "metadata": {},
   "outputs": [
    {
     "name": "stdout",
     "output_type": "stream",
     "text": [
      "you logged in\n"
     ]
    }
   ],
   "source": [
    "# make a program that will aks you for username if you enter correct username then it ask you for password\n",
    "# if you correctly enter password then you log in\n",
    "\n",
    "u = input (f'enter the username: ')\n",
    "if u in users:\n",
    "    p = input(f'enter the password: ')\n",
    "    ind = users.index(u)\n",
    "    if passwords[ind] == p:\n",
    "        print('you logged in')\n",
    "    else:\n",
    "        print('wrong password')\n",
    "else:\n",
    "    print('username doesnt exist')\n",
    "    nu = input('enter new username')\n",
    "    users.append(nu)\n",
    "    np = input('new password:')\n",
    "    passwords.append(np)"
   ]
  },
  {
   "cell_type": "code",
   "execution_count": 49,
   "id": "a7bfa538",
   "metadata": {},
   "outputs": [
    {
     "data": {
      "text/plain": [
       "['ali', 'john', 'roin', 'umar', 'umair']"
      ]
     },
     "execution_count": 49,
     "metadata": {},
     "output_type": "execute_result"
    }
   ],
   "source": [
    "users"
   ]
  },
  {
   "cell_type": "code",
   "execution_count": 50,
   "id": "75ab8325",
   "metadata": {},
   "outputs": [
    {
     "data": {
      "text/plain": [
       "['123', '456', '789', '0123', '112233']"
      ]
     },
     "execution_count": 50,
     "metadata": {},
     "output_type": "execute_result"
    }
   ],
   "source": [
    "passwords"
   ]
  },
  {
   "cell_type": "code",
   "execution_count": null,
   "id": "6d002946",
   "metadata": {},
   "outputs": [],
   "source": [
    "# make complete program "
   ]
  }
 ],
 "metadata": {
  "kernelspec": {
   "display_name": "Python 3",
   "language": "python",
   "name": "python3"
  },
  "language_info": {
   "codemirror_mode": {
    "name": "ipython",
    "version": 3
   },
   "file_extension": ".py",
   "mimetype": "text/x-python",
   "name": "python",
   "nbconvert_exporter": "python",
   "pygments_lexer": "ipython3",
   "version": "3.13.3"
  }
 },
 "nbformat": 4,
 "nbformat_minor": 5
}
