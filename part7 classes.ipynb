{
 "cells": [
  {
   "cell_type": "code",
   "execution_count": 20,
   "id": "3cbee07c",
   "metadata": {},
   "outputs": [],
   "source": [
    "class Cat:\n",
    "    def __init__(self,name,color,status):\n",
    "        self.name = name\n",
    "        self.color = color\n",
    "        self.status = status\n",
    "    \n",
    "    def tell_status(self):\n",
    "        print(f'{self.name} is {self.status}')\n",
    "\n",
    "    def change_status(self,new_status):\n",
    "        self.status = new_status\n",
    "        print(f'status changed to {self.status}')"
   ]
  },
  {
   "cell_type": "code",
   "execution_count": 21,
   "id": "eed5c8e1",
   "metadata": {},
   "outputs": [],
   "source": [
    "c1 = Cat('linda','red','sleeping')\n",
    "c2 = Cat('mewn','black','eating')"
   ]
  },
  {
   "cell_type": "code",
   "execution_count": 22,
   "id": "2522b992",
   "metadata": {},
   "outputs": [
    {
     "name": "stdout",
     "output_type": "stream",
     "text": [
      "linda is sleeping\n"
     ]
    }
   ],
   "source": [
    "c1.tell_status()"
   ]
  },
  {
   "cell_type": "code",
   "execution_count": 23,
   "id": "c3c3351e",
   "metadata": {},
   "outputs": [
    {
     "name": "stdout",
     "output_type": "stream",
     "text": [
      "mewn is eating\n"
     ]
    }
   ],
   "source": [
    "c2.tell_status()"
   ]
  },
  {
   "cell_type": "code",
   "execution_count": 24,
   "id": "deb2eff2",
   "metadata": {},
   "outputs": [
    {
     "name": "stdout",
     "output_type": "stream",
     "text": [
      "status changed to running\n"
     ]
    }
   ],
   "source": [
    "c1.change_status('running')"
   ]
  },
  {
   "cell_type": "code",
   "execution_count": 25,
   "id": "12a63da1",
   "metadata": {},
   "outputs": [
    {
     "name": "stdout",
     "output_type": "stream",
     "text": [
      "linda is running\n"
     ]
    }
   ],
   "source": [
    "c1.tell_status()"
   ]
  },
  {
   "cell_type": "code",
   "execution_count": null,
   "id": "d30e031d",
   "metadata": {},
   "outputs": [],
   "source": []
  }
 ],
 "metadata": {
  "kernelspec": {
   "display_name": "Python 3",
   "language": "python",
   "name": "python3"
  },
  "language_info": {
   "codemirror_mode": {
    "name": "ipython",
    "version": 3
   },
   "file_extension": ".py",
   "mimetype": "text/x-python",
   "name": "python",
   "nbconvert_exporter": "python",
   "pygments_lexer": "ipython3",
   "version": "3.13.3"
  }
 },
 "nbformat": 4,
 "nbformat_minor": 5
}
