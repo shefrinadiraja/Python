{
 "cells": [
  {
   "cell_type": "markdown",
   "id": "45dace7a",
   "metadata": {},
   "source": [
    "# limited repeatation means for loop\n",
    "# condtion based repeatation is while loop"
   ]
  },
  {
   "cell_type": "code",
   "execution_count": 2,
   "id": "d1dbe4bd",
   "metadata": {},
   "outputs": [],
   "source": [
    "fruits = ['apple', 'ornage', 'mango', 'strawberry'] # list data structure"
   ]
  },
  {
   "cell_type": "code",
   "execution_count": 3,
   "id": "d23df475",
   "metadata": {},
   "outputs": [
    {
     "data": {
      "text/plain": [
       "False"
      ]
     },
     "execution_count": 3,
     "metadata": {},
     "output_type": "execute_result"
    }
   ],
   "source": [
    "'chicken' in fruits"
   ]
  },
  {
   "cell_type": "code",
   "execution_count": 4,
   "id": "84d18561",
   "metadata": {},
   "outputs": [
    {
     "name": "stdout",
     "output_type": "stream",
     "text": [
      "username doesnot exist\n"
     ]
    }
   ],
   "source": [
    "users = ['shefrin1','ali98','umar123']\n",
    "a = input('enter username:')\n",
    "if a in users:\n",
    "    print('your username is valid now wte password etc')\n",
    "else:\n",
    "    print('username doesnot exist')"
   ]
  },
  {
   "cell_type": "code",
   "execution_count": 5,
   "id": "ac7f36ad",
   "metadata": {},
   "outputs": [
    {
     "name": "stdout",
     "output_type": "stream",
     "text": [
      "username doesnot exist\n"
     ]
    }
   ],
   "source": [
    "users = ['shefrin1','ali98','umar123']\n",
    "a = input('enter username:')\n",
    "if not a in users:\n",
    "    print('username doesnot exist')\n",
    "else:\n",
    "    print('your username is valid now wte password etc')"
   ]
  },
  {
   "cell_type": "code",
   "execution_count": 6,
   "id": "26d99524",
   "metadata": {},
   "outputs": [
    {
     "name": "stdout",
     "output_type": "stream",
     "text": [
      "i like apple\n",
      "i like ornage\n",
      "i like mango\n",
      "i like strawberry\n"
     ]
    }
   ],
   "source": [
    "# lets just add a for now\n",
    "for any_variable in fruits:\n",
    "    print('i like',any_variable)"
   ]
  },
  {
   "cell_type": "code",
   "execution_count": 10,
   "id": "63fb605d",
   "metadata": {},
   "outputs": [
    {
     "name": "stdout",
     "output_type": "stream",
     "text": [
      "Hello Eisa you are invited for the party.\n",
      "Hello Eid you are invited for the party.\n",
      "Hello Shefrin you are invited for the party.\n"
     ]
    }
   ],
   "source": [
    "# make a list of guests you want to invite to dinner\n",
    "# write a one message and using for loop print message for all people\n",
    "\n",
    "Guest = ['Eisa','Eid','Shefrin']\n",
    "for name in Guest:\n",
    "    print (f'Hello {name} you are invited for the party.')\n",
    "\n"
   ]
  },
  {
   "cell_type": "code",
   "execution_count": 13,
   "id": "2a881de7",
   "metadata": {},
   "outputs": [
    {
     "name": "stdout",
     "output_type": "stream",
     "text": [
      "you are not allowed to go outside without telling because yoru age is 2\n",
      "you are not allowed to go outside without telling because yoru age is 3\n",
      "you are not allowed to go outside without telling because yoru age is 4\n",
      "you are not allowed to go outside without telling because yoru age is 5\n",
      "you are not allowed to go outside without telling because yoru age is 6\n",
      "you are not allowed to go outside without telling because yoru age is 7\n",
      "you are not allowed to go outside without telling because yoru age is 8\n",
      "you are not allowed to go outside without telling because yoru age is 9\n",
      "you are not allowed to go outside without telling because yoru age is 10\n",
      "you are not allowed to go outside without telling because yoru age is 11\n",
      "you are not allowed to go outside without telling because yoru age is 12\n",
      "you are not allowed to go outside without telling because yoru age is 13\n",
      "you are not allowed to go outside without telling because yoru age is 14\n",
      "you are not allowed to go outside without telling because yoru age is 15\n",
      "you are not allowed to go outside without telling because yoru age is 16\n",
      "you are not allowed to go outside without telling because yoru age is 17\n",
      "you are free now\n"
     ]
    }
   ],
   "source": [
    "age = 2\n",
    "while (age <18):\n",
    "    print(f'you are not allowed to go outside without telling because yoru age is {age}')\n",
    "    age += 1\n",
    "print('you are free now')\n",
    "\n"
   ]
  },
  {
   "cell_type": "code",
   "execution_count": 14,
   "id": "9f6ede38",
   "metadata": {},
   "outputs": [
    {
     "name": "stdout",
     "output_type": "stream",
     "text": [
      "The 0 is not greater than 50\n",
      "The 5 is not greater than 50\n",
      "The 10 is not greater than 50\n",
      "The 15 is not greater than 50\n",
      "The 20 is not greater than 50\n",
      "The 25 is not greater than 50\n",
      "The 30 is not greater than 50\n",
      "The 35 is not greater than 50\n",
      "The 40 is not greater than 50\n",
      "The 45 is not greater than 50\n",
      "now number is greater than 50\n"
     ]
    }
   ],
   "source": [
    "# print a number until we get number greater than 50\n",
    "number = 0\n",
    "while (number<50):\n",
    "    print (f'The {number} is not greater than 50')\n",
    "    number += 5\n",
    "print('now number is greater than 50')\n"
   ]
  },
  {
   "cell_type": "code",
   "execution_count": 15,
   "id": "06877a26",
   "metadata": {},
   "outputs": [
    {
     "data": {
      "text/plain": [
       "50"
      ]
     },
     "execution_count": 15,
     "metadata": {},
     "output_type": "execute_result"
    }
   ],
   "source": [
    "# print all even numbers from 0 to 100 \n",
    "number"
   ]
  },
  {
   "cell_type": "code",
   "execution_count": 18,
   "id": "a8f475a4",
   "metadata": {},
   "outputs": [
    {
     "data": {
      "text/plain": [
       "[0, 1, 2, 3, 4, 5, 6, 7, 8, 9, 10, 11, 12, 13, 14, 15, 16, 17, 18, 19]"
      ]
     },
     "execution_count": 18,
     "metadata": {},
     "output_type": "execute_result"
    }
   ],
   "source": [
    "list(range(0,20))"
   ]
  },
  {
   "cell_type": "code",
   "execution_count": 19,
   "id": "131eafc8",
   "metadata": {},
   "outputs": [
    {
     "name": "stdout",
     "output_type": "stream",
     "text": [
      "0 0\n",
      "0 1\n",
      "0 2\n",
      "0 3\n",
      "0 4\n",
      "1 0\n",
      "1 1\n",
      "1 2\n",
      "1 3\n",
      "1 4\n",
      "2 0\n",
      "2 1\n",
      "2 2\n",
      "2 3\n",
      "2 4\n",
      "3 0\n",
      "3 1\n",
      "3 2\n",
      "3 3\n",
      "3 4\n",
      "4 0\n",
      "4 1\n",
      "4 2\n",
      "4 3\n",
      "4 4\n",
      "5 0\n",
      "5 1\n",
      "5 2\n",
      "5 3\n",
      "5 4\n",
      "6 0\n",
      "6 1\n",
      "6 2\n",
      "6 3\n",
      "6 4\n",
      "7 0\n",
      "7 1\n",
      "7 2\n",
      "7 3\n",
      "7 4\n",
      "8 0\n",
      "8 1\n",
      "8 2\n",
      "8 3\n",
      "8 4\n",
      "9 0\n",
      "9 1\n",
      "9 2\n",
      "9 3\n",
      "9 4\n"
     ]
    }
   ],
   "source": [
    "x = 10\n",
    "y = 5\n",
    "for i in range(0,x):\n",
    "    for j in range(0,y):\n",
    "        print(i,j)\n"
   ]
  },
  {
   "cell_type": "code",
   "execution_count": 29,
   "id": "a66da2de",
   "metadata": {},
   "outputs": [
    {
     "name": "stdout",
     "output_type": "stream",
     "text": [
      "monday:: chicken and carrot\n",
      "tuesday:: chicken and carrot\n",
      "wed:: chicken and carrot\n",
      "thurs:: chicken and carrot\n",
      "friday:: chicken and carrot\n",
      "saturday:: chicken and carrot\n",
      "sunday:: chicken and carrot\n",
      "monday:: chicken and cauliflower\n",
      "tuesday:: chicken and cauliflower\n",
      "wed:: chicken and cauliflower\n",
      "thurs:: chicken and cauliflower\n",
      "friday:: chicken and cauliflower\n",
      "saturday:: chicken and cauliflower\n",
      "sunday:: chicken and cauliflower\n",
      "monday:: chicken and paneer\n",
      "tuesday:: chicken and paneer\n",
      "wed:: chicken and paneer\n",
      "thurs:: chicken and paneer\n",
      "friday:: chicken and paneer\n",
      "saturday:: chicken and paneer\n",
      "lets eat outside\n",
      "sunday:: chicken and paneer\n",
      "monday:: chicken and beans\n",
      "tuesday:: chicken and beans\n",
      "wed:: chicken and beans\n",
      "thurs:: chicken and beans\n",
      "friday:: chicken and beans\n",
      "saturday:: chicken and beans\n",
      "sunday:: chicken and beans\n",
      "monday:: chicken and bitterguard\n",
      "tuesday:: chicken and bitterguard\n",
      "wed:: chicken and bitterguard\n",
      "thurs:: chicken and bitterguard\n",
      "friday:: chicken and bitterguard\n",
      "saturday:: chicken and bitterguard\n",
      "sunday:: chicken and bitterguard\n",
      "monday:: chicken and spinach\n",
      "tuesday:: chicken and spinach\n",
      "wed:: chicken and spinach\n",
      "thurs:: chicken and spinach\n",
      "friday:: chicken and spinach\n",
      "saturday:: chicken and spinach\n",
      "lets eat outside\n",
      "sunday:: chicken and spinach\n",
      "monday:: chicken and eggplant\n",
      "tuesday:: chicken and eggplant\n",
      "wed:: chicken and eggplant\n",
      "thurs:: chicken and eggplant\n",
      "friday:: chicken and eggplant\n",
      "saturday:: chicken and eggplant\n",
      "sunday:: chicken and eggplant\n",
      "monday:: lamb and carrot\n",
      "tuesday:: lamb and carrot\n",
      "wed:: lamb and carrot\n",
      "thurs:: lamb and carrot\n",
      "friday:: lamb and carrot\n",
      "saturday:: lamb and carrot\n",
      "sunday:: lamb and carrot\n",
      "monday:: lamb and cauliflower\n",
      "tuesday:: lamb and cauliflower\n",
      "wed:: lamb and cauliflower\n",
      "thurs:: lamb and cauliflower\n",
      "friday:: lamb and cauliflower\n",
      "saturday:: lamb and cauliflower\n",
      "lets eat outside\n",
      "sunday:: lamb and cauliflower\n",
      "monday:: lamb and paneer\n",
      "tuesday:: lamb and paneer\n",
      "wed:: lamb and paneer\n",
      "thurs:: lamb and paneer\n",
      "friday:: lamb and paneer\n",
      "saturday:: lamb and paneer\n",
      "sunday:: lamb and paneer\n",
      "monday:: lamb and beans\n",
      "tuesday:: lamb and beans\n",
      "wed:: lamb and beans\n",
      "thurs:: lamb and beans\n",
      "friday:: lamb and beans\n",
      "saturday:: lamb and beans\n",
      "sunday:: lamb and beans\n",
      "monday:: lamb and bitterguard\n",
      "tuesday:: lamb and bitterguard\n",
      "wed:: lamb and bitterguard\n",
      "thurs:: lamb and bitterguard\n",
      "friday:: lamb and bitterguard\n",
      "saturday:: lamb and bitterguard\n",
      "lets eat outside\n",
      "sunday:: lamb and bitterguard\n",
      "monday:: lamb and spinach\n",
      "tuesday:: lamb and spinach\n",
      "wed:: lamb and spinach\n",
      "thurs:: lamb and spinach\n",
      "friday:: lamb and spinach\n",
      "saturday:: lamb and spinach\n",
      "sunday:: lamb and spinach\n",
      "monday:: lamb and eggplant\n",
      "tuesday:: lamb and eggplant\n",
      "wed:: lamb and eggplant\n",
      "thurs:: lamb and eggplant\n",
      "friday:: lamb and eggplant\n",
      "saturday:: lamb and eggplant\n",
      "sunday:: lamb and eggplant\n",
      "monday:: potates and carrot\n",
      "tuesday:: potates and carrot\n",
      "wed:: potates and carrot\n",
      "thurs:: potates and carrot\n",
      "friday:: potates and carrot\n",
      "saturday:: potates and carrot\n",
      "lets eat outside\n",
      "sunday:: potates and carrot\n",
      "monday:: potates and cauliflower\n",
      "tuesday:: potates and cauliflower\n",
      "wed:: potates and cauliflower\n",
      "thurs:: potates and cauliflower\n",
      "friday:: potates and cauliflower\n",
      "saturday:: potates and cauliflower\n",
      "sunday:: potates and cauliflower\n",
      "monday:: potates and paneer\n",
      "tuesday:: potates and paneer\n",
      "wed:: potates and paneer\n",
      "thurs:: potates and paneer\n",
      "friday:: potates and paneer\n",
      "saturday:: potates and paneer\n",
      "sunday:: potates and paneer\n",
      "monday:: potates and beans\n",
      "tuesday:: potates and beans\n",
      "wed:: potates and beans\n",
      "thurs:: potates and beans\n",
      "friday:: potates and beans\n",
      "saturday:: potates and beans\n",
      "lets eat outside\n",
      "sunday:: potates and beans\n",
      "monday:: potates and bitterguard\n",
      "tuesday:: potates and bitterguard\n",
      "wed:: potates and bitterguard\n",
      "thurs:: potates and bitterguard\n",
      "friday:: potates and bitterguard\n",
      "saturday:: potates and bitterguard\n",
      "sunday:: potates and bitterguard\n",
      "monday:: potates and spinach\n",
      "tuesday:: potates and spinach\n",
      "wed:: potates and spinach\n",
      "thurs:: potates and spinach\n",
      "friday:: potates and spinach\n",
      "saturday:: potates and spinach\n",
      "sunday:: potates and spinach\n",
      "monday:: potates and eggplant\n",
      "tuesday:: potates and eggplant\n",
      "wed:: potates and eggplant\n",
      "thurs:: potates and eggplant\n",
      "friday:: potates and eggplant\n",
      "saturday:: potates and eggplant\n",
      "lets eat outside\n",
      "sunday:: potates and eggplant\n"
     ]
    }
   ],
   "source": [
    "# we have to cook somethign in home we have combinations\n",
    "c0 = ['monday','tuesday','wed','thurs','friday','saturday','sunday']\n",
    "c1 = ['chicken','lamb','potates']\n",
    "c2 = ['carrot','cauliflower','paneer','beans','bitterguard','spinach','eggplant']\n",
    "\n",
    "counter = 0\n",
    "for x in c1:\n",
    "    for a in c2:\n",
    "        for b in c0:\n",
    "            if b == 'sunday':\n",
    "                counter = counter +1\n",
    "            if counter >2 and b=='sunday':\n",
    "                print('lets eat outside')\n",
    "                counter = 0\n",
    "            \n",
    "            print (f'{b}:: {x} and {a}')"
   ]
  },
  {
   "cell_type": "code",
   "execution_count": null,
   "id": "2591ac8d",
   "metadata": {},
   "outputs": [],
   "source": []
  }
 ],
 "metadata": {
  "kernelspec": {
   "display_name": "Python 3",
   "language": "python",
   "name": "python3"
  },
  "language_info": {
   "codemirror_mode": {
    "name": "ipython",
    "version": 3
   },
   "file_extension": ".py",
   "mimetype": "text/x-python",
   "name": "python",
   "nbconvert_exporter": "python",
   "pygments_lexer": "ipython3",
   "version": "3.13.3"
  }
 },
 "nbformat": 4,
 "nbformat_minor": 5
}
