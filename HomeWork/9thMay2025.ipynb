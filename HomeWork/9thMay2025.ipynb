{
 "cells": [
  {
   "cell_type": "code",
   "execution_count": 30,
   "id": "12cf714a",
   "metadata": {},
   "outputs": [
    {
     "name": "stdout",
     "output_type": "stream",
     "text": [
      "My name is Eisa Adiraja\n",
      "Iam 8 years old\n",
      "and I live in Dubai\n",
      "My name is Eisa Adiraja, Iam 8 years old and I live in Dubai\n"
     ]
    }
   ],
   "source": [
    "# question1 Store and print info\n",
    "\n",
    "Name='Eisa Adiraja'\n",
    "Age=8\n",
    "Location='Dubai'\n",
    "\n",
    "print (f'My name is {Name}\\nIam {Age} years old\\nand I live in {Location}')#\n",
    "print (f'My name is {Name}, Iam {Age} years old and I live in {Location}')#"
   ]
  },
  {
   "cell_type": "code",
   "execution_count": 19,
   "id": "2f23e40e",
   "metadata": {},
   "outputs": [
    {
     "name": "stdout",
     "output_type": "stream",
     "text": [
      "The Sum is 30\n"
     ]
    }
   ],
   "source": [
    "# question2 Simple Calculator Addition\n",
    "\n",
    "x=input('please enter x:')\n",
    "y=input('please enter y:')\n",
    "x=int(x)\n",
    "y=int(y)\n",
    "s=x+y\n",
    "\n",
    "print (f'The Sum is {s}')\n"
   ]
  },
  {
   "cell_type": "code",
   "execution_count": 20,
   "id": "e30f404e",
   "metadata": {},
   "outputs": [
    {
     "name": "stdout",
     "output_type": "stream",
     "text": [
      "Even Number\n"
     ]
    }
   ],
   "source": [
    "#question3 Even or Odd\n",
    "\n",
    "x=input ('please enter x:')\n",
    "x=int(x)\n",
    "\n",
    "if x % 2 == 0:\n",
    "    print ('Even Number')\n",
    "else:\n",
    "    print ('Odd Number')\n"
   ]
  },
  {
   "cell_type": "code",
   "execution_count": 27,
   "id": "9cf35b0e",
   "metadata": {},
   "outputs": [
    {
     "name": "stdout",
     "output_type": "stream",
     "text": [
      "You are eligible to vote\n"
     ]
    }
   ],
   "source": [
    "#question4 Age Check\n",
    "\n",
    "Age=input ('Enter your Age')\n",
    "Age=int(Age)\n",
    "\n",
    "if Age>=18:\n",
    "    print('You are eligible to vote')\n",
    "else:\n",
    "    print('You are too young')"
   ]
  },
  {
   "cell_type": "code",
   "execution_count": 7,
   "id": "d26fec40",
   "metadata": {},
   "outputs": [
    {
     "name": "stdout",
     "output_type": "stream",
     "text": [
      "invalid number please write number between 0 to 100\n"
     ]
    }
   ],
   "source": [
    "#question5 Grade Checker\n",
    "\n",
    "x=input('Enter your score')\n",
    "Score=float(x)\n",
    "\n",
    "if Score >= 80 and Score <= 100:\n",
    "    print('Grade:A')\n",
    "elif Score >= 60 and Score < 80:\n",
    "    print('Grade:B')\n",
    "elif Score >= 40 and Score < 60:\n",
    "    print('Grade:C')\n",
    "elif Score < 40 and Score >=0:\n",
    "    print ('Grade:D')\n",
    "else:\n",
    "    print('invalid number please write number between 0 to 100')\n"
   ]
  },
  {
   "cell_type": "code",
   "execution_count": 3,
   "id": "7f49d740",
   "metadata": {},
   "outputs": [
    {
     "name": "stdout",
     "output_type": "stream",
     "text": [
      "shefrin\n",
      "eisa\n",
      "eid\n",
      "thahasil\n"
     ]
    }
   ],
   "source": [
    "#Chapter3-Lists Queation 3-1\n",
    "\n",
    "names = ['shefrin','eisa','eid','thahasil']\n",
    "for name1 in names:\n",
    "    print (name1)"
   ]
  },
  {
   "cell_type": "code",
   "execution_count": null,
   "id": "841d2e57",
   "metadata": {},
   "outputs": [
    {
     "name": "stdout",
     "output_type": "stream",
     "text": [
      "Hi shefrin you are invited for the party.\n",
      "Hi eisa you are invited for the party.\n",
      "Hi eid you are invited for the party.\n",
      "Hi thahasil you are invited for the party.\n"
     ]
    }
   ],
   "source": [
    "#Chapter3-Lists Queation 3-2\n",
    "\n",
    "names = ['shefrin','eisa','eid','thahasil']\n",
    "for name1 in names:\n",
    "    print (f'Hi {name1} you are invited for the party.')\n",
    "\n"
   ]
  },
  {
   "cell_type": "code",
   "execution_count": 7,
   "id": "10a404e5",
   "metadata": {},
   "outputs": [
    {
     "name": "stdout",
     "output_type": "stream",
     "text": [
      "I would like to own a car.\n",
      "I would like to own a cycle.\n",
      "I would like to own a van.\n",
      "I would like to own a jeep.\n"
     ]
    }
   ],
   "source": [
    "#Chapter3-Lists Queation 3-3\n",
    "\n",
    "vehicles =['car','cycle','van','jeep']\n",
    "for vehicles1 in vehicles:\n",
    "    print (f'I would like to own a {vehicles1}.')\n",
    "\n",
    "\n"
   ]
  },
  {
   "cell_type": "code",
   "execution_count": 10,
   "id": "9c887f7e",
   "metadata": {},
   "outputs": [
    {
     "name": "stdout",
     "output_type": "stream",
     "text": [
      "Hi shefrin you are invited for the dinner tonight.\n",
      "Hi eisa you are invited for the dinner tonight.\n",
      "Hi eid you are invited for the dinner tonight.\n",
      "Hi thahasil you are invited for the dinner tonight.\n"
     ]
    }
   ],
   "source": [
    "#Chapter3-Lists Queation 3-4\n",
    "\n",
    "guests=['shefrin','eisa','eid','thahasil']\n",
    "for guests1 in guests:\n",
    "    print(f'Hi {guests1} you are invited for the dinner tonight.')"
   ]
  },
  {
   "cell_type": "code",
   "execution_count": 21,
   "id": "4d9e0a4d",
   "metadata": {},
   "outputs": [
    {
     "name": "stdout",
     "output_type": "stream",
     "text": [
      "['eisa', 'eid', 'thahasil']\n",
      "shefrin will not be coming for the dinner tonight.\n",
      "['eisa', 'eid', 'thahasil', 'Ali']\n",
      "Hi eisa you are invited for the dinner tonight.\n",
      "Hi eid you are invited for the dinner tonight.\n",
      "Hi thahasil you are invited for the dinner tonight.\n",
      "Hi Ali you are invited for the dinner tonight.\n"
     ]
    }
   ],
   "source": [
    "#Chapter3-Lists Queation 3-5#\n",
    "\n",
    "guests=['shefrin','eisa','eid','thahasil']\n",
    "guests_notcoming ='shefrin'\n",
    "guests.remove(guests_notcoming)\n",
    "print(guests)\n",
    "print(f'{guests_notcoming} will not be coming for the dinner tonight.')\n",
    "guests.append ('Ali')\n",
    "print(guests)\n",
    "for guests1 in guests:\n",
    "    print(f'Hi {guests1} you are invited for the dinner tonight.')\n",
    "\n"
   ]
  },
  {
   "cell_type": "code",
   "execution_count": 26,
   "id": "cc75f4b8",
   "metadata": {},
   "outputs": [
    {
     "name": "stdout",
     "output_type": "stream",
     "text": [
      "['shefrin', 'eisa', 'eid', 'thahasil']\n",
      "Hi all,I have found a bigger dining table for the dinner tonight.\n",
      "['shefrin', 'eisa', 'eid', 'thahasil', 'aiza']\n",
      "['zuha', 'shefrin', 'ali', 'eisa', 'eid', 'thahasil', 'aiza']\n",
      "Hi zuha you are invited for the dinner tonight.\n",
      "Hi shefrin you are invited for the dinner tonight.\n",
      "Hi ali you are invited for the dinner tonight.\n",
      "Hi eisa you are invited for the dinner tonight.\n",
      "Hi eid you are invited for the dinner tonight.\n",
      "Hi thahasil you are invited for the dinner tonight.\n",
      "Hi aiza you are invited for the dinner tonight.\n"
     ]
    }
   ],
   "source": [
    "#Chapter3-Lists Queation 3-6#\n",
    "\n",
    "guests=['shefrin','eisa','eid','thahasil']\n",
    "print(guests)\n",
    "print(f'Hi all,I have found a bigger dining table for the dinner tonight.')\n",
    "guests.append('aiza')\n",
    "print(guests)\n",
    "guests.insert(0,'zuha')\n",
    "guests.insert(2,'ali')\n",
    "print(guests)\n",
    "for guests1 in guests:\n",
    "    print(f'Hi {guests1} you are invited for the dinner tonight.')\n",
    "\n",
    "\n"
   ]
  },
  {
   "cell_type": "code",
   "execution_count": 43,
   "id": "3e7e1c29",
   "metadata": {},
   "outputs": [
    {
     "name": "stdout",
     "output_type": "stream",
     "text": [
      "Hi all,I have found that the dining table wont arrive on time and only two people can be invited for the dinner tonight.\n",
      "Apologize aiza you are not invited for the dinner tonight\n",
      "Apologize thahasil you are not invited for the dinner tonight\n",
      "Apologize eid you are not invited for the dinner tonight\n",
      "Apologize eisa you are not invited for the dinner tonight\n",
      "Apologize ali you are not invited for the dinner tonight\n",
      "Final users in the list are: ['zuha', 'shefrin']\n",
      "Hi zuha you are invited for the dinner tonight.\n",
      "Hi shefrin you are invited for the dinner tonight.\n",
      "[]\n"
     ]
    }
   ],
   "source": [
    "#Chapter3-Lists Queation 3-7#\n",
    "\n",
    "users=['zuha', 'shefrin', 'ali', 'eisa', 'eid', 'thahasil', 'aiza']\n",
    "print(f'Hi all,I have found that the dining table wont arrive on time and only two people can be invited for the dinner tonight.')\n",
    "while len(users) > 2:\n",
    "    removed_user = users.pop()\n",
    "    print(f'Apologize {removed_user} you are not invited for the dinner tonight')\n",
    "print(f'Final users in the list are: {users}')\n",
    "for users1 in users:\n",
    "    print(f'Hi {users1} you are invited for the dinner tonight.')\n",
    "del users [0]\n",
    "del users [0]\n",
    "print(users)\n",
    "\n"
   ]
  },
  {
   "cell_type": "code",
   "execution_count": null,
   "id": "c1e82610",
   "metadata": {},
   "outputs": [
    {
     "name": "stdout",
     "output_type": "stream",
     "text": [
      "['paris', 'vienna', 'venice', 'london', 'prague']\n",
      "['london', 'paris', 'prague', 'venice', 'vienna']\n",
      "['paris', 'vienna', 'venice', 'london', 'prague']\n",
      "original list: ['paris', 'vienna', 'venice', 'london', 'prague']\n",
      "sorted list: ['vienna', 'venice', 'prague', 'paris', 'london']\n",
      "['paris', 'vienna', 'venice', 'london', 'prague']\n",
      "['prague', 'london', 'venice', 'vienna', 'paris']\n",
      "['paris', 'vienna', 'venice', 'london', 'prague']\n",
      "['london', 'paris', 'prague', 'venice', 'vienna']\n",
      "['vienna', 'venice', 'prague', 'paris', 'london']\n"
     ]
    }
   ],
   "source": [
    "#Chapter3-Lists Queation 3-8#\n",
    "\n",
    "places=['paris','vienna','venice','london','prague']\n",
    "print(places)\n",
    "\n",
    "print(sorted(places))\n",
    "\n",
    "print(places)\n",
    "\n",
    "sorted_places =sorted(places, reverse=True)\n",
    "print('original list:', places)\n",
    "print('sorted list:',sorted_places)\n",
    "\n",
    "print(places)\n",
    "\n",
    "places.reverse()\n",
    "print(places)\n",
    "\n",
    "places.reverse()\n",
    "print(places)\n",
    "\n",
    "\n",
    "places.sort()\n",
    "print(places)\n",
    "\n",
    "places.sort(reverse=True)\n",
    "print(places)\n"
   ]
  },
  {
   "cell_type": "code",
   "execution_count": 73,
   "id": "1af4fd84",
   "metadata": {},
   "outputs": [
    {
     "data": {
      "text/plain": [
       "7"
      ]
     },
     "execution_count": 73,
     "metadata": {},
     "output_type": "execute_result"
    }
   ],
   "source": [
    "#Chapter3-Lists Queation 3-9#\n",
    "\n",
    "users=['zuha', 'shefrin', 'ali', 'eisa', 'eid', 'thahasil', 'aiza']\n",
    "len(users)\n"
   ]
  },
  {
   "cell_type": "code",
   "execution_count": 75,
   "id": "2c774b56",
   "metadata": {},
   "outputs": [],
   "source": [
    "#Chapter3-Lists Queation 3-9# ----pending"
   ]
  },
  {
   "cell_type": "code",
   "execution_count": 12,
   "id": "f21b1516",
   "metadata": {},
   "outputs": [
    {
     "ename": "IndexError",
     "evalue": "list assignment index out of range",
     "output_type": "error",
     "traceback": [
      "\u001b[31m---------------------------------------------------------------------------\u001b[39m",
      "\u001b[31mIndexError\u001b[39m                                Traceback (most recent call last)",
      "\u001b[36mCell\u001b[39m\u001b[36m \u001b[39m\u001b[32mIn[12]\u001b[39m\u001b[32m, line 4\u001b[39m\n\u001b[32m      1\u001b[39m \u001b[38;5;66;03m#Chapter3-Lists Queation 3-10#\u001b[39;00m\n\u001b[32m      3\u001b[39m users=[\u001b[33m'\u001b[39m\u001b[33mzuha\u001b[39m\u001b[33m'\u001b[39m, \u001b[33m'\u001b[39m\u001b[33mshefrin\u001b[39m\u001b[33m'\u001b[39m, \u001b[33m'\u001b[39m\u001b[33mali\u001b[39m\u001b[33m'\u001b[39m, \u001b[33m'\u001b[39m\u001b[33meisa\u001b[39m\u001b[33m'\u001b[39m, \u001b[33m'\u001b[39m\u001b[33meid\u001b[39m\u001b[33m'\u001b[39m, \u001b[33m'\u001b[39m\u001b[33mthahasil\u001b[39m\u001b[33m'\u001b[39m, \u001b[33m'\u001b[39m\u001b[33maiza\u001b[39m\u001b[33m'\u001b[39m]\n\u001b[32m----> \u001b[39m\u001b[32m4\u001b[39m \u001b[38;5;28;01mdel\u001b[39;00m \u001b[43musers\u001b[49m\u001b[43m[\u001b[49m\u001b[32;43m7\u001b[39;49m\u001b[43m]\u001b[49m\n\u001b[32m      5\u001b[39m users\n",
      "\u001b[31mIndexError\u001b[39m: list assignment index out of range"
     ]
    }
   ],
   "source": [
    "#Chapter3-Lists Queation 3-10#\n",
    "\n",
    "users=['zuha', 'shefrin', 'ali', 'eisa', 'eid', 'thahasil', 'aiza']\n",
    "del users[7]\n",
    "users"
   ]
  },
  {
   "cell_type": "code",
   "execution_count": null,
   "id": "72c2aa3c",
   "metadata": {},
   "outputs": [
    {
     "data": {
      "text/plain": [
       "True"
      ]
     },
     "execution_count": 5,
     "metadata": {},
     "output_type": "execute_result"
    }
   ],
   "source": [
    "#Chapter4-Lists Queation 5-1&2#\n",
    "\n",
    "car='Audi'\n",
    "\n",
    "car=='Audi'\n",
    "\n"
   ]
  },
  {
   "cell_type": "code",
   "execution_count": 6,
   "id": "b5bdf8e3",
   "metadata": {},
   "outputs": [
    {
     "data": {
      "text/plain": [
       "False"
      ]
     },
     "execution_count": 6,
     "metadata": {},
     "output_type": "execute_result"
    }
   ],
   "source": [
    "car != 'Audi'"
   ]
  },
  {
   "cell_type": "code",
   "execution_count": 7,
   "id": "22d7aff2",
   "metadata": {},
   "outputs": [
    {
     "data": {
      "text/plain": [
       "'audi'"
      ]
     },
     "execution_count": 7,
     "metadata": {},
     "output_type": "execute_result"
    }
   ],
   "source": [
    "car.lower()"
   ]
  },
  {
   "cell_type": "code",
   "execution_count": 8,
   "id": "3e5cb056",
   "metadata": {},
   "outputs": [
    {
     "data": {
      "text/plain": [
       "'AUDI'"
      ]
     },
     "execution_count": 8,
     "metadata": {},
     "output_type": "execute_result"
    }
   ],
   "source": [
    "car.upper()"
   ]
  },
  {
   "cell_type": "code",
   "execution_count": 9,
   "id": "742c42a0",
   "metadata": {},
   "outputs": [
    {
     "data": {
      "text/plain": [
       "True"
      ]
     },
     "execution_count": 9,
     "metadata": {},
     "output_type": "execute_result"
    }
   ],
   "source": [
    "number=12\n",
    "number==12\n"
   ]
  },
  {
   "cell_type": "code",
   "execution_count": 10,
   "id": "905bd222",
   "metadata": {},
   "outputs": [
    {
     "data": {
      "text/plain": [
       "False"
      ]
     },
     "execution_count": 10,
     "metadata": {},
     "output_type": "execute_result"
    }
   ],
   "source": [
    "number!=12"
   ]
  },
  {
   "cell_type": "code",
   "execution_count": 11,
   "id": "f6a2e368",
   "metadata": {},
   "outputs": [
    {
     "data": {
      "text/plain": [
       "False"
      ]
     },
     "execution_count": 11,
     "metadata": {},
     "output_type": "execute_result"
    }
   ],
   "source": [
    "number>12"
   ]
  },
  {
   "cell_type": "code",
   "execution_count": 12,
   "id": "b51505b2",
   "metadata": {},
   "outputs": [
    {
     "data": {
      "text/plain": [
       "True"
      ]
     },
     "execution_count": 12,
     "metadata": {},
     "output_type": "execute_result"
    }
   ],
   "source": [
    "number<=12"
   ]
  },
  {
   "cell_type": "code",
   "execution_count": 14,
   "id": "9cba2756",
   "metadata": {},
   "outputs": [
    {
     "data": {
      "text/plain": [
       "False"
      ]
     },
     "execution_count": 14,
     "metadata": {},
     "output_type": "execute_result"
    }
   ],
   "source": [
    "number1=12\n",
    "number2=15\n",
    "number1>13 and number2<16"
   ]
  },
  {
   "cell_type": "code",
   "execution_count": 15,
   "id": "48d0238a",
   "metadata": {},
   "outputs": [
    {
     "data": {
      "text/plain": [
       "True"
      ]
     },
     "execution_count": 15,
     "metadata": {},
     "output_type": "execute_result"
    }
   ],
   "source": [
    "number>13 or number<=16"
   ]
  },
  {
   "cell_type": "code",
   "execution_count": 21,
   "id": "9869478d",
   "metadata": {},
   "outputs": [
    {
     "name": "stdout",
     "output_type": "stream",
     "text": [
      "The item is available\n"
     ]
    }
   ],
   "source": [
    "item=['phone','tv','remote']\n",
    "item1='phone'\n",
    "if item1 in item:\n",
    "    print (f'The item is available')"
   ]
  },
  {
   "cell_type": "code",
   "execution_count": null,
   "id": "24bbf74e",
   "metadata": {},
   "outputs": [
    {
     "name": "stdout",
     "output_type": "stream",
     "text": [
      "Item not available\n"
     ]
    }
   ],
   "source": [
    "item1='laptop'\n",
    "if item1 not in item:\n",
    "    print(f'Item not available')"
   ]
  },
  {
   "cell_type": "code",
   "execution_count": null,
   "id": "0ac4c8a0",
   "metadata": {},
   "outputs": [],
   "source": []
  }
 ],
 "metadata": {
  "kernelspec": {
   "display_name": "Python 3",
   "language": "python",
   "name": "python3"
  },
  "language_info": {
   "codemirror_mode": {
    "name": "ipython",
    "version": 3
   },
   "file_extension": ".py",
   "mimetype": "text/x-python",
   "name": "python",
   "nbconvert_exporter": "python",
   "pygments_lexer": "ipython3",
   "version": "3.13.3"
  }
 },
 "nbformat": 4,
 "nbformat_minor": 5
}
