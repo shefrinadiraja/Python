{
 "cells": [
  {
   "cell_type": "code",
   "execution_count": 30,
   "id": "12cf714a",
   "metadata": {},
   "outputs": [
    {
     "name": "stdout",
     "output_type": "stream",
     "text": [
      "My name is Eisa Adiraja\n",
      "Iam 8 years old\n",
      "and I live in Dubai\n",
      "My name is Eisa Adiraja, Iam 8 years old and I live in Dubai\n"
     ]
    }
   ],
   "source": [
    "# question1 Store and print info\n",
    "\n",
    "Name='Eisa Adiraja'\n",
    "Age=8\n",
    "Location='Dubai'\n",
    "\n",
    "print (f'My name is {Name}\\nIam {Age} years old\\nand I live in {Location}')#\n",
    "print (f'My name is {Name}, Iam {Age} years old and I live in {Location}')#"
   ]
  },
  {
   "cell_type": "code",
   "execution_count": 19,
   "id": "2f23e40e",
   "metadata": {},
   "outputs": [
    {
     "name": "stdout",
     "output_type": "stream",
     "text": [
      "The Sum is 30\n"
     ]
    }
   ],
   "source": [
    "# question2 Simple Calculator Addition\n",
    "\n",
    "x=input('please enter x:')\n",
    "y=input('please enter y:')\n",
    "x=int(x)\n",
    "y=int(y)\n",
    "s=x+y\n",
    "\n",
    "print (f'The Sum is {s}')\n"
   ]
  },
  {
   "cell_type": "code",
   "execution_count": 20,
   "id": "e30f404e",
   "metadata": {},
   "outputs": [
    {
     "name": "stdout",
     "output_type": "stream",
     "text": [
      "Even Number\n"
     ]
    }
   ],
   "source": [
    "#question3 Even or Odd\n",
    "\n",
    "x=input ('please enter x:')\n",
    "x=int(x)\n",
    "\n",
    "if x % 2 == 0:\n",
    "    print ('Even Number')\n",
    "else:\n",
    "    print ('Odd Number')\n"
   ]
  },
  {
   "cell_type": "code",
   "execution_count": 27,
   "id": "9cf35b0e",
   "metadata": {},
   "outputs": [
    {
     "name": "stdout",
     "output_type": "stream",
     "text": [
      "You are eligible to vote\n"
     ]
    }
   ],
   "source": [
    "#question4 Age Check\n",
    "\n",
    "Age=input ('Enter your Age')\n",
    "Age=int(Age)\n",
    "\n",
    "if Age>=18:\n",
    "    print('You are eligible to vote')\n",
    "else:\n",
    "    print('You are too young')"
   ]
  },
  {
   "cell_type": "code",
   "execution_count": 29,
   "id": "d26fec40",
   "metadata": {},
   "outputs": [
    {
     "name": "stdout",
     "output_type": "stream",
     "text": [
      "Grade:D\n"
     ]
    }
   ],
   "source": [
    "#question5 Grade Checker\n",
    "\n",
    "Score=input('Enter your score')\n",
    "Score=float(x)\n",
    "\n",
    "if Score >= 80 and Score <= 100:\n",
    "    print('Grade:A')\n",
    "elif Score >= 60 and Score <= 79:\n",
    "    print('Grade:B')\n",
    "elif Score >= 40 and Score <= 59:\n",
    "    print('Grade:C')\n",
    "elif Score <= 39:\n",
    "    print ('Grade:D')\n"
   ]
  },
  {
   "cell_type": "code",
   "execution_count": null,
   "id": "7f49d740",
   "metadata": {},
   "outputs": [],
   "source": []
  }
 ],
 "metadata": {
  "kernelspec": {
   "display_name": "Python 3",
   "language": "python",
   "name": "python3"
  },
  "language_info": {
   "codemirror_mode": {
    "name": "ipython",
    "version": 3
   },
   "file_extension": ".py",
   "mimetype": "text/x-python",
   "name": "python",
   "nbconvert_exporter": "python",
   "pygments_lexer": "ipython3",
   "version": "3.13.3"
  }
 },
 "nbformat": 4,
 "nbformat_minor": 5
}
